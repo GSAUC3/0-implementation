{
 "cells": [
  {
   "cell_type": "markdown",
   "metadata": {},
   "source": [
    "### Dataset: `Messidor`\n",
    "\n",
    "Total number of images in the dataset: 1200\n",
    "\n",
    "Diabetic Retinopathy Grade: \n",
    "|DR Grade| Number of images \n",
    "|--------|:-----------------:|\n",
    "|R0     | 546 |\n",
    "|R1     | 153 |\n",
    "|R2     | 247 |\n",
    "|R3     | 254 |\n",
    "|Total     | 1200|\n",
    "\n",
    "The size of the fundus image is *1440 × 960*, *2240 × 1488*, or *2304 × 1536*.\n",
    "\n"
   ]
  },
  {
   "cell_type": "markdown",
   "metadata": {},
   "source": [
    "#### Image pre-processing\n",
    "\n",
    "```python\n",
    "# Importing all the required libraries\n",
    "import os,pandas as pd,numpy as np\n",
    "from PIL import Image\n",
    "\n",
    "# Reading the Lables csv file \n",
    "df = pd.read_csv('lables.csv',encoding='latin-1')\n",
    "print(df.head())\n",
    "\n",
    "# Checking the number of image in each DR grade\n",
    "print(df['Retinopathy grade'].value_counts())\n",
    "\n",
    "# Creating a dictionary with image names as keys and their respective DR grades as values\n",
    "details = {k:v for k,v in zip(df['Image name'],df['Retinopathy grade'])}\n",
    "print(len(details))\n",
    "\n",
    "def binary_partition():\n",
    "    for folder in os.listdir():\n",
    "        if folder.startswith('base'):\n",
    "            for image in os.listdir(folder):\n",
    "                if image.endswith('.tif'):\n",
    "                    \n",
    "                    x = Image.open(folder+'/'+image)\n",
    "                    y = np.asarray(x)\n",
    "                    if y.shape == (1488,2240,3):\n",
    "                        img = Image.fromarray(y[:,400:1820])\n",
    "                    if y.shape == (960,1440,3):\n",
    "                        img = Image.fromarray(y[:,250:1220])\n",
    "                    if y.shape == (1536,2304,3):\n",
    "                        img = Image.fromarray(y[:,400:1950])\n",
    "                    img = img.resize((256,256))\n",
    "                    if details[image]==0:\n",
    "                        img.save(f'binary/0/{image}',format='TIFF')\n",
    "                    else:\n",
    "                        img.save(f'binary/1/{image}',format='TIFF')\n",
    "\n",
    "def proper_partition():\n",
    "        for folder in os.listdir():\n",
    "            if folder.startswith('base'):\n",
    "                for image in os.listdir(folder):\n",
    "                    if image.endswith('.tif'):\n",
    "                        \n",
    "                        x = Image.open(folder+'/'+image)\n",
    "                        y = np.asarray(x)\n",
    "                        if y.shape == (1488,2240,3):\n",
    "                            img = Image.fromarray(y[:,400:1820])\n",
    "                        if y.shape == (960,1440,3):\n",
    "                            img = Image.fromarray(y[:,250:1220])\n",
    "                        if y.shape == (1536,2304,3):\n",
    "                            img = Image.fromarray(y[:,400:1950])\n",
    "                        img = img.resize((256,256))\n",
    "                        if details[image]==0:\n",
    "                            img.save(f'Resized/0/{image}',format='TIFF')\n",
    "                        elif details[image]==1:\n",
    "                            img.save(f'binary/1/{image}',format='TIFF')\n",
    "                        elif details[image]==2:\n",
    "                            img.save(f'binary/2/{image}',format='TIFF')\n",
    "                        else:\n",
    "                            img.save(f'binary/3/{image}',format='TIFF')\n",
    "\n",
    "                \n",
    "\n",
    "```"
   ]
  },
  {
   "cell_type": "code",
   "execution_count": 1,
   "metadata": {},
   "outputs": [],
   "source": [
    "import os\n",
    "from PIL import Image as im"
   ]
  },
  {
   "cell_type": "code",
   "execution_count": 8,
   "metadata": {},
   "outputs": [],
   "source": [
    "path = 'D:/Personal/final year/messidor/MASIDOR/'\n",
    "from tqdm.notebook import tqdm\n",
    "\n",
    "def augmentation(path):\n",
    "    for i in range(4):\n",
    "        for image in tqdm(os.listdir(path+str(i))):\n",
    "            img = im.open(path+str(i)+'/'+image)\n",
    "            if i==1:\n",
    "                rotate45 = img.rotate(45)\n",
    "                flip1 = img.transpose(im.FLIP_TOP_BOTTOM)    \n",
    "                rotate45.save(path+str(i)+'/rotate45'+image,format='TIFF')\n",
    "                flip1.save(path+str(i)+'/flipped1'+image,format='TIFF')\n",
    "            rotate90 = img.rotate(90)\n",
    "            rotate270 = img.rotate(270)\n",
    "            flip = img.transpose(im.FLIP_LEFT_RIGHT)\n",
    "            rotate270.save(path+str(i)+'/rotate270'+image,format='TIFF')\n",
    "            rotate90.save(path+str(i)+'/rotate90'+image,format='TIFF')\n",
    "            flip.save(path+str(i)+'/flipped'+image,format='TIFF')\n"
   ]
  },
  {
   "cell_type": "code",
   "execution_count": 13,
   "metadata": {},
   "outputs": [
    {
     "name": "stdout",
     "output_type": "stream",
     "text": [
      "2184 918 988 1016 5106\n"
     ]
    }
   ],
   "source": [
    "print(546*4,153*6,247*4,254*4,546*4+153*6+247*4+254*4)"
   ]
  },
  {
   "cell_type": "code",
   "execution_count": 7,
   "metadata": {},
   "outputs": [
    {
     "data": {
      "text/plain": [
       "(918, 918)"
      ]
     },
     "execution_count": 7,
     "metadata": {},
     "output_type": "execute_result"
    }
   ],
   "source": [
    "612+153+153,153*6"
   ]
  },
  {
   "cell_type": "code",
   "execution_count": 9,
   "metadata": {},
   "outputs": [
    {
     "data": {
      "application/vnd.jupyter.widget-view+json": {
       "model_id": "3d84b1c883d3449da2a36df34014a34d",
       "version_major": 2,
       "version_minor": 0
      },
      "text/plain": [
       "  0%|          | 0/546 [00:00<?, ?it/s]"
      ]
     },
     "metadata": {},
     "output_type": "display_data"
    },
    {
     "data": {
      "application/vnd.jupyter.widget-view+json": {
       "model_id": "9b0618e9d73144cb91f98955172b11e3",
       "version_major": 2,
       "version_minor": 0
      },
      "text/plain": [
       "  0%|          | 0/153 [00:00<?, ?it/s]"
      ]
     },
     "metadata": {},
     "output_type": "display_data"
    },
    {
     "data": {
      "application/vnd.jupyter.widget-view+json": {
       "model_id": "77c222d305a54fe79801b857be71268a",
       "version_major": 2,
       "version_minor": 0
      },
      "text/plain": [
       "  0%|          | 0/247 [00:00<?, ?it/s]"
      ]
     },
     "metadata": {},
     "output_type": "display_data"
    },
    {
     "data": {
      "application/vnd.jupyter.widget-view+json": {
       "model_id": "2e3feae4d1fd4609859a42a0cf5c0d07",
       "version_major": 2,
       "version_minor": 0
      },
      "text/plain": [
       "  0%|          | 0/254 [00:00<?, ?it/s]"
      ]
     },
     "metadata": {},
     "output_type": "display_data"
    }
   ],
   "source": [
    "# augmentation(path)"
   ]
  },
  {
   "cell_type": "code",
   "execution_count": 12,
   "metadata": {},
   "outputs": [
    {
     "name": "stdout",
     "output_type": "stream",
     "text": [
      "2184\n",
      "918\n",
      "988\n",
      "1016\n"
     ]
    },
    {
     "data": {
      "text/plain": [
       "5106"
      ]
     },
     "execution_count": 12,
     "metadata": {},
     "output_type": "execute_result"
    }
   ],
   "source": [
    "total =0\n",
    "for i in range(4):\n",
    "    total+=len(os.listdir(path+str(i)))\n",
    "    print(len(os.listdir(path+str(i))))\n",
    "total"
   ]
  },
  {
   "cell_type": "code",
   "execution_count": null,
   "metadata": {},
   "outputs": [],
   "source": []
  }
 ],
 "metadata": {
  "interpreter": {
   "hash": "6f41cde163267ea74fb8a959ea1c52e21a3d11db2c6ff7108ee0ea8d86fcf190"
  },
  "kernelspec": {
   "display_name": "Python 3.9.5 64-bit",
   "language": "python",
   "name": "python3"
  },
  "language_info": {
   "codemirror_mode": {
    "name": "ipython",
    "version": 3
   },
   "file_extension": ".py",
   "mimetype": "text/x-python",
   "name": "python",
   "nbconvert_exporter": "python",
   "pygments_lexer": "ipython3",
   "version": "3.9.5"
  },
  "orig_nbformat": 4
 },
 "nbformat": 4,
 "nbformat_minor": 2
}
