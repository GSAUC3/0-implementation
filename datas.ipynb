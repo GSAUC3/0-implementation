{
 "cells": [
  {
   "cell_type": "code",
   "execution_count": 1,
   "metadata": {},
   "outputs": [],
   "source": [
    "import os,pandas as pd,numpy as np\n",
    "from PIL import Image"
   ]
  },
  {
   "cell_type": "code",
   "execution_count": 2,
   "metadata": {},
   "outputs": [
    {
     "data": {
      "text/plain": [
       "['asd.csv',\n",
       " 'base11',\n",
       " 'base12',\n",
       " 'base13',\n",
       " 'base14',\n",
       " 'base15',\n",
       " 'base16',\n",
       " 'base17',\n",
       " 'base18',\n",
       " 'base19',\n",
       " 'base20',\n",
       " 'base21',\n",
       " 'binary',\n",
       " 'Copy of Annotation_Base13.csv',\n",
       " 'datas.ipynb',\n",
       " 'diagnostics-11-01385-v2.pdf',\n",
       " 'groundtruths.csv',\n",
       " 'messidor.bib',\n",
       " 'messidor.json',\n",
       " 'resized messidor']"
      ]
     },
     "execution_count": 2,
     "metadata": {},
     "output_type": "execute_result"
    }
   ],
   "source": [
    "os.listdir()"
   ]
  },
  {
   "cell_type": "code",
   "execution_count": 3,
   "metadata": {},
   "outputs": [
    {
     "data": {
      "text/html": [
       "<div>\n",
       "<style scoped>\n",
       "    .dataframe tbody tr th:only-of-type {\n",
       "        vertical-align: middle;\n",
       "    }\n",
       "\n",
       "    .dataframe tbody tr th {\n",
       "        vertical-align: top;\n",
       "    }\n",
       "\n",
       "    .dataframe thead th {\n",
       "        text-align: right;\n",
       "    }\n",
       "</style>\n",
       "<table border=\"1\" class=\"dataframe\">\n",
       "  <thead>\n",
       "    <tr style=\"text-align: right;\">\n",
       "      <th></th>\n",
       "      <th>Image name</th>\n",
       "      <th>Ophthalmologic department</th>\n",
       "      <th>Retinopathy grade</th>\n",
       "      <th>Risk of macular edema</th>\n",
       "    </tr>\n",
       "  </thead>\n",
       "  <tbody>\n",
       "    <tr>\n",
       "      <th>0</th>\n",
       "      <td>20051021_51625_0100_PP.tif</td>\n",
       "      <td>Service Ophtalmologie Lariboisière</td>\n",
       "      <td>3</td>\n",
       "      <td>0</td>\n",
       "    </tr>\n",
       "    <tr>\n",
       "      <th>1</th>\n",
       "      <td>20051021_51748_0100_PP.tif</td>\n",
       "      <td>Service Ophtalmologie Lariboisière</td>\n",
       "      <td>3</td>\n",
       "      <td>1</td>\n",
       "    </tr>\n",
       "    <tr>\n",
       "      <th>2</th>\n",
       "      <td>20051021_51804_0100_PP.tif</td>\n",
       "      <td>Service Ophtalmologie Lariboisière</td>\n",
       "      <td>3</td>\n",
       "      <td>1</td>\n",
       "    </tr>\n",
       "    <tr>\n",
       "      <th>3</th>\n",
       "      <td>20051021_51936_0100_PP.tif</td>\n",
       "      <td>Service Ophtalmologie Lariboisière</td>\n",
       "      <td>0</td>\n",
       "      <td>0</td>\n",
       "    </tr>\n",
       "    <tr>\n",
       "      <th>4</th>\n",
       "      <td>20051021_51994_0100_PP.tif</td>\n",
       "      <td>Service Ophtalmologie Lariboisière</td>\n",
       "      <td>0</td>\n",
       "      <td>0</td>\n",
       "    </tr>\n",
       "  </tbody>\n",
       "</table>\n",
       "</div>"
      ],
      "text/plain": [
       "                   Image name           Ophthalmologic department  \\\n",
       "0  20051021_51625_0100_PP.tif  Service Ophtalmologie Lariboisière   \n",
       "1  20051021_51748_0100_PP.tif  Service Ophtalmologie Lariboisière   \n",
       "2  20051021_51804_0100_PP.tif  Service Ophtalmologie Lariboisière   \n",
       "3  20051021_51936_0100_PP.tif  Service Ophtalmologie Lariboisière   \n",
       "4  20051021_51994_0100_PP.tif  Service Ophtalmologie Lariboisière   \n",
       "\n",
       "   Retinopathy grade  Risk of macular edema   \n",
       "0                  3                       0  \n",
       "1                  3                       1  \n",
       "2                  3                       1  \n",
       "3                  0                       0  \n",
       "4                  0                       0  "
      ]
     },
     "execution_count": 3,
     "metadata": {},
     "output_type": "execute_result"
    }
   ],
   "source": [
    "df = pd.read_csv('labels.csv',encoding='latin-1')\n",
    "df.head()"
   ]
  },
  {
   "cell_type": "code",
   "execution_count": 4,
   "metadata": {},
   "outputs": [
    {
     "data": {
      "text/plain": [
       "0    546\n",
       "3    254\n",
       "2    247\n",
       "1    153\n",
       "Name: Retinopathy grade, dtype: int64"
      ]
     },
     "execution_count": 4,
     "metadata": {},
     "output_type": "execute_result"
    }
   ],
   "source": [
    "df['Retinopathy grade'].value_counts()"
   ]
  },
  {
   "cell_type": "code",
   "execution_count": 5,
   "metadata": {},
   "outputs": [
    {
     "data": {
      "text/plain": [
       "array([[<AxesSubplot:title={'center':'Retinopathy grade'}>,\n",
       "        <AxesSubplot:title={'center':'Risk of macular edema '}>]],\n",
       "      dtype=object)"
      ]
     },
     "execution_count": 5,
     "metadata": {},
     "output_type": "execute_result"
    },
    {
     "data": {
      "image/png": "[encoded data removed]",
      "text/plain": [
       "<Figure size 432x288 with 2 Axes>"
      ]
     },
     "metadata": {
      "needs_background": "light"
     },
     "output_type": "display_data"
    }
   ],
   "source": [
    "df.hist()"
   ]
  },
  {
   "cell_type": "code",
   "execution_count": 6,
   "metadata": {},
   "outputs": [
    {
     "data": {
      "text/plain": [
       "1200"
      ]
     },
     "execution_count": 6,
     "metadata": {},
     "output_type": "execute_result"
    }
   ],
   "source": [
    "details = {k:v for k,v in zip(df['Image name'],df['Retinopathy grade'])}\n",
    "len(details)"
   ]
  },
  {
   "cell_type": "code",
   "execution_count": 10,
   "metadata": {},
   "outputs": [
    {
     "name": "stdout",
     "output_type": "stream",
     "text": [
      "1200 1200 True\n",
      "(1488,2240,3) 400\n",
      "(960,1440,3) 588\n",
      "(1536,2304,3) 212\n"
     ]
    }
   ],
   "source": [
    "count1488 = 0\n",
    "count960 = 0\n",
    "count1536 = 0\n",
    "count = 0\n",
    "for folder in os.listdir():\n",
    "    if folder.startswith('base'):\n",
    "        for image in os.listdir(folder):\n",
    "            if image.endswith('.tif'):\n",
    "                count+=1       \n",
    "                x = Image.open(folder+'/'+image)\n",
    "                y = np.asarray(x)\n",
    "                if y.shape == (1488,2240,3):\n",
    "                    count1488+=1\n",
    "                if y.shape == (960,1440,3):\n",
    "                    count960+=1\n",
    "                    \n",
    "                if y.shape == (1536,2304,3):\n",
    "                    count1536+=1\n",
    "                    \n",
    "                # img = img.resize((256,256))\n",
    "                # if details[image]==0:\n",
    "                #     img.save(f'binary/0/{image}',format='TIFF')\n",
    "                # else:\n",
    "                #     img.save(f'binary/1/{image}',format='TIFF')\n",
    "print(count,count1536+ count960 + count1488,count1536+ count960 + count1488 == count)\n",
    "print('(1488,2240,3)',count1488)\n",
    "print('(960,1440,3)',count960)\n",
    "print('(1536,2304,3)',count1536)"
   ]
  },
  {
   "cell_type": "markdown",
   "metadata": {},
   "source": [
    "Multiclass to binary classification switching"
   ]
  },
  {
   "cell_type": "code",
   "execution_count": null,
   "metadata": {},
   "outputs": [],
   "source": [
    "count=0\n",
    "for folder in os.listdir():\n",
    "    if folder.startswith('base'):\n",
    "        for image in os.listdir(folder):\n",
    "            if image.endswith('.tif'):\n",
    "                count+=1\n",
    "                x = Image.open(folder+'/'+image)\n",
    "                y = np.asarray(x)\n",
    "                if y.shape == (1488,2240,3):\n",
    "                    img = Image.fromarray(y[:,400:1820])\n",
    "                if y.shape == (960,1440,3):\n",
    "                    img = Image.fromarray(y[:,250:1220])\n",
    "                if y.shape == (1536,2304,3):\n",
    "                    img = Image.fromarray(y[:,400:1950])\n",
    "                img = img.resize((256,256))\n",
    "                if details[image]==0:\n",
    "                    img.save(f'binary/0/{image}',format='TIFF')\n",
    "                else:\n",
    "                    img.save(f'binary/1/{image}',format='TIFF')\n",
    "                print(count)"
   ]
  },
  {
   "cell_type": "code",
   "execution_count": 13,
   "metadata": {},
   "outputs": [
    {
     "data": {
      "text/plain": [
       "0"
      ]
     },
     "execution_count": 13,
     "metadata": {},
     "output_type": "execute_result"
    }
   ],
   "source": [
    "ans = 0\n",
    "for i in os.listdir('binary/0'):\n",
    "    ans += details[i]\n",
    "ans"
   ]
  },
  {
   "cell_type": "code",
   "execution_count": 14,
   "metadata": {},
   "outputs": [
    {
     "data": {
      "text/plain": [
       "1219"
      ]
     },
     "execution_count": 14,
     "metadata": {},
     "output_type": "execute_result"
    }
   ],
   "source": [
    "dr = 0\n",
    "for j in os.listdir('binary/1'):\n",
    "    dr += details[j]\n",
    "dr"
   ]
  }
 ],
 "metadata": {
  "interpreter": {
   "hash": "6f41cde163267ea74fb8a959ea1c52e21a3d11db2c6ff7108ee0ea8d86fcf190"
  },
  "kernelspec": {
   "display_name": "Python 3.9.5 64-bit",
   "language": "python",
   "name": "python3"
  },
  "language_info": {
   "codemirror_mode": {
    "name": "ipython",
    "version": 3
   },
   "file_extension": ".py",
   "mimetype": "text/x-python",
   "name": "python",
   "nbconvert_exporter": "python",
   "pygments_lexer": "ipython3",
   "version": "3.9.5"
  },
  "orig_nbformat": 4
 },
 "nbformat": 4,
 "nbformat_minor": 2
}
