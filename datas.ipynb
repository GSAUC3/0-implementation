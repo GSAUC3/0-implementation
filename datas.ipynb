{
 "cells": [
  {
   "cell_type": "code",
   "execution_count": null,
   "metadata": {},
   "outputs": [],
   "source": [
    "# Importing all the required libraries\n",
    "import os\n",
    "import pandas as pd\n",
    "import numpy as np\n",
    "from PIL import Image\n",
    "\n",
    "# Reading the Lables csv file\n",
    "df = pd.read_csv('../final year/messidor/labels.csv', encoding='latin-1')\n",
    "print(df.head())\n",
    "\n",
    "# Checking the number of image in each DR grade\n",
    "print(df['Retinopathy grade'].value_counts())\n",
    "\n",
    "# Creating a dictionary with image names as keys and their respective DR grades as values\n",
    "details = {k: v for k, v in zip(df['Image name'], df['Retinopathy grade'])}\n",
    "print(len(details))\n"
   ]
  },
  {
   "cell_type": "markdown",
   "metadata": {},
   "source": [
    "Converts the `details` dictionary to a json file and save it."
   ]
  },
  {
   "cell_type": "code",
   "execution_count": 42,
   "metadata": {},
   "outputs": [],
   "source": [
    "import json \n",
    "\n",
    "with open(\"img2class.json\",\"w\") as file:\n",
    "    json.dump(details,file)"
   ]
  },
  {
   "cell_type": "code",
   "execution_count": 1,
   "metadata": {},
   "outputs": [
    {
     "data": {
      "text/plain": [
       "[546, 153, 247, 254]"
      ]
     },
     "execution_count": 1,
     "metadata": {},
     "output_type": "execute_result"
    }
   ],
   "source": [
    "from tqdm.notebook import tqdm\n",
    "import json \n",
    "path = '../final year/messidor/512 non binary/' # path to the actual messidor dataset\n",
    "\n",
    "with open('images.json','r') as f:\n",
    "    datapoints = json.loads(f.read())\n",
    "\n",
    "classes = [str(i) for i in range(4)]\n",
    "# datapoints\n",
    "lengths = [len(datapoints[str(i)]) for i in range(len(datapoints))]\n",
    "lengths\n"
   ]
  },
  {
   "cell_type": "code",
   "execution_count": 6,
   "metadata": {},
   "outputs": [
    {
     "data": {
      "text/plain": [
       "False"
      ]
     },
     "execution_count": 6,
     "metadata": {},
     "output_type": "execute_result"
    }
   ],
   "source": [
    "x ={'0':[],'1':[],'2':[],'3':[]}\n",
    "\n",
    "for s in ['set '+str(i+1) for i in range(5)]:\n",
    "    for i in os.listdir(f'dataset/{s}/'):\n",
    "        for j in os.listdir(f'dataset/{s}/{i}/'):\n",
    "            x[i].append(f'../final year/messidor/512 non binary/{i}/{j}')\n",
    "\n"
   ]
  },
  {
   "cell_type": "code",
   "execution_count": 8,
   "metadata": {},
   "outputs": [
    {
     "data": {
      "text/plain": [
       "{'0': ['../final year/messidor/512 non binary/0/20051201_37557_0400_PP.tif'],\n",
       " '1': ['../final year/messidor/512 non binary/1/20051020_56592_0100_PP.tif',\n",
       "  '../final year/messidor/512 non binary/1/20051020_62461_0100_PP.tif',\n",
       "  '../final year/messidor/512 non binary/1/20060412_51775_0200_PP.tif'],\n",
       " '2': ['../final year/messidor/512 non binary/2/20060410_44106_0200_PP.tif',\n",
       "  '../final year/messidor/512 non binary/2/20060411_59747_0200_PP.tif'],\n",
       " '3': ['../final year/messidor/512 non binary/3/20051205_33012_0400_PP.tif',\n",
       "  '../final year/messidor/512 non binary/3/20051205_35417_0400_PP.tif',\n",
       "  '../final year/messidor/512 non binary/3/20051208_42314_0400_PP.tif',\n",
       "  '../final year/messidor/512 non binary/3/20060411_61494_0200_PP.tif']}"
      ]
     },
     "execution_count": 8,
     "metadata": {},
     "output_type": "execute_result"
    }
   ],
   "source": [
    "for j in ['0','1','2','3']:\n",
    "    for i in x[j]:\n",
    "        if i in datapoints[j]:\n",
    "            datapoints[j].remove(i)\n",
    "datapoints"
   ]
  },
  {
   "cell_type": "code",
   "execution_count": 12,
   "metadata": {},
   "outputs": [],
   "source": [
    "for i in  ['../final year/messidor/512 non binary/0/20051201_37557_0400_PP.tif']:\n",
    "    shutil.copy(i,f'dataset/set 1/0/')\n",
    "shutil.copy('../final year/messidor/512 non binary/1/20051020_56592_0100_PP.tif',f'dataset/set 1/1/')\n",
    "\n",
    "\n",
    "for i in ['../final year/messidor/512 non binary/1/20051020_62461_0100_PP.tif',\n",
    "  '../final year/messidor/512 non binary/1/20060412_51775_0200_PP.tif']:\n",
    "    shutil.copy(i,f'dataset/set 2/1/')\n",
    "  \n",
    "\n",
    "for i in ['../final year/messidor/512 non binary/2/20060410_44106_0200_PP.tif',\n",
    "  '../final year/messidor/512 non binary/2/20060411_59747_0200_PP.tif']:\n",
    "    shutil.copy(i,f'dataset/set 3/2/')\n",
    "\n",
    "\n",
    "for i in ['../final year/messidor/512 non binary/3/20051205_33012_0400_PP.tif',\n",
    "  '../final year/messidor/512 non binary/3/20051205_35417_0400_PP.tif']:\n",
    "    shutil.copy(i,f'dataset/set 4/3/')\n",
    "\n",
    "\n",
    "for i in ['../final year/messidor/512 non binary/3/20051208_42314_0400_PP.tif',\n",
    " '../final year/messidor/512 non binary/3/20060411_61494_0200_PP.tif']:\n",
    "    shutil.copy(i,f'dataset/set 5/3/')"
   ]
  },
  {
   "cell_type": "code",
   "execution_count": 9,
   "metadata": {},
   "outputs": [],
   "source": [
    "demo = datapoints"
   ]
  },
  {
   "cell_type": "code",
   "execution_count": 11,
   "metadata": {},
   "outputs": [],
   "source": [
    "import random,shutil\n",
    "K=5\n",
    "d = {\n",
    "'0':len(datapoints['0'])//K, # 109\n",
    "'1':len(datapoints['1'])//K, # 30\n",
    "'2':len(datapoints['2'])//K, # 49\n",
    "'3':len(datapoints['3'])//K  # 50\n",
    "}\n",
    "\n",
    "def intoTheFolds():\n",
    "    '''\n",
    "    This function \n",
    "    \n",
    "    '''\n",
    "    for s in ['set ' +str(i+1) for i in range(5)]:\n",
    "        for DRgrade,size in d.items():\n",
    "            for _ in tqdm(range(size)):\n",
    "                idx = random.randint(0,len(datapoints[DRgrade])-1)\n",
    "                img = datapoints[DRgrade].pop(idx)\n",
    "                shutil.copy(img,f\"dataset/{s}/{DRgrade}/\")\n"
   ]
  }
 ],
 "metadata": {
  "interpreter": {
   "hash": "1c74d99681ad1a2c591eba718ee02a1ecc6e61532130e8f76172a42e8769d33f"
  },
  "kernelspec": {
   "display_name": "Python 3.9.5 64-bit",
   "language": "python",
   "name": "python3"
  },
  "language_info": {
   "codemirror_mode": {
    "name": "ipython",
    "version": 3
   },
   "file_extension": ".py",
   "mimetype": "text/x-python",
   "name": "python",
   "nbconvert_exporter": "python",
   "pygments_lexer": "ipython3",
   "version": "3.9.5"
  },
  "orig_nbformat": 4
 },
 "nbformat": 4,
 "nbformat_minor": 2
}
