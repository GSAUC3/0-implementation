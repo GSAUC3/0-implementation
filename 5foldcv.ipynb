{
 "cells": [
  {
   "cell_type": "markdown",
   "metadata": {},
   "source": [
    "### This is just to cross check the accuracy of the model with proper 5 fold cross validation method"
   ]
  },
  {
   "cell_type": "code",
   "execution_count": null,
   "metadata": {},
   "outputs": [],
   "source": [
    "import matplotlib.pyplot as plt \n",
    "import numpy as np \n",
    "from sklearn.model_selection import KFold\n",
    "import random \n",
    "import torch \n",
    "from torch import nn \n",
    "from torch import optim \n",
    "from torch.utils.data import DataLoader,TensorDataset, random_split,SubsetRandomSampler,ConcatDataset\n",
    "from torch.nn import functional as F\n",
    "from torchvision import transforms\n",
    "from torchsummary import summary\n",
    "from tqdm.notebook import tqdm \n",
    "%matplotlib inline"
   ]
  },
  {
   "cell_type": "markdown",
   "metadata": {},
   "source": [
    "Load the whole dataset into a vatiable, `Dataset`"
   ]
  },
  {
   "cell_type": "code",
   "execution_count": null,
   "metadata": {},
   "outputs": [],
   "source": []
  },
  {
   "cell_type": "markdown",
   "metadata": {},
   "source": [
    "Define the Neural Neural Architecture"
   ]
  },
  {
   "cell_type": "code",
   "execution_count": null,
   "metadata": {},
   "outputs": [],
   "source": []
  },
  {
   "cell_type": "markdown",
   "metadata": {},
   "source": [
    "Write loss function, optimizer,  epochs and all"
   ]
  },
  {
   "cell_type": "code",
   "execution_count": null,
   "metadata": {},
   "outputs": [],
   "source": [
    "device = torch.device('cuda' if torch.cuda.is_available() else 'cpu')\n",
    "torch.manual_seed(42)\n",
    "\n",
    "criterion = nn.CrossEntropyLoss()\n",
    "\n",
    "EPOCHS = 40\n",
    "batch_size = 16\n",
    "k=5\n",
    "splits =KFold(n_splits=5,shuffle=True,random_state=42)\n",
    "\n",
    "Details = {}"
   ]
  },
  {
   "cell_type": "markdown",
   "metadata": {},
   "source": [
    "### Training function "
   ]
  },
  {
   "cell_type": "code",
   "execution_count": null,
   "metadata": {},
   "outputs": [],
   "source": [
    "def training(model,trainloader,optimizer,lossFn,device):\n",
    "    trainLoss = 0.0\n",
    "    trainCorrect = 0\n",
    "    model.train()\n",
    "    for images, labels in tqdm(trainloader):\n",
    "        images,labels = images.to(device),labels.to(device)\n",
    "        \n",
    "        optimizer.zero_grad()\n",
    "        output = model(images) # input format [B.C,W,H]\n",
    "        loss = lossFn(output,labels)\n",
    "        loss.backward()\n",
    "        optimizer.step()\n",
    "\n",
    "        trainLoss += loss.item() \n",
    "        preds = output.argmax(dim=1)\n",
    "        trainCorrect += (preds==labels).cpu().detach().sum().item()        \n",
    "        # trainCorrect += (preds.cpu().detach()==labels.cpu().detach()).sum().item()\n",
    "    return trainLoss,trainCorrect        "
   ]
  },
  {
   "cell_type": "markdown",
   "metadata": {},
   "source": [
    "### Validation function"
   ]
  },
  {
   "cell_type": "markdown",
   "metadata": {},
   "source": []
  }
 ],
 "metadata": {
  "language_info": {
   "name": "python"
  },
  "orig_nbformat": 4
 },
 "nbformat": 4,
 "nbformat_minor": 2
}
