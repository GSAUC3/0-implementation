{
 "cells": [
  {
   "cell_type": "markdown",
   "metadata": {},
   "source": [
    "# 4 Grade Diabetic Retinopathy Classification using Deep Learning\n",
    "\n",
    "- Model: Efficient Net B0\n",
    "- Dataset: Messidor\n",
    "- Number of Sample points: 10800 (augmented)  | 1200 (Original)\n",
    "- Number of classes: 4 (R0,R1,R2,R3)\n",
    "- Loss Function: Cross Entropy loss\n",
    "- Regularization: NONE \n",
    "- Learning Rate: 3e-4\n",
    "- Optimizer: Adam\n",
    "- Epochs: 40\n",
    "- Validation: Cross Validation"
   ]
  },
  {
   "cell_type": "markdown",
   "metadata": {},
   "source": [
    "Importing the required modules"
   ]
  },
  {
   "cell_type": "code",
   "execution_count": 1,
   "metadata": {},
   "outputs": [],
   "source": [
    "import torch \n",
    "import torch.nn as nn\n",
    "from torch.utils.data import DataLoader\n",
    "from torchvision import transforms,models\n",
    "from torchvision.datasets import ImageFolder\n",
    "from torchsummary import summary\n",
    "from tqdm.notebook import tqdm\n",
    "import matplotlib.pyplot as plt\n",
    "%matplotlib inline"
   ]
  },
  {
   "cell_type": "markdown",
   "metadata": {},
   "source": [
    "This piece of code is to check whether we have GPU available in the system. \n",
    "If it prints `cuda` then one can use GPU to accelerate the training process"
   ]
  },
  {
   "cell_type": "code",
   "execution_count": 2,
   "metadata": {},
   "outputs": [
    {
     "name": "stdout",
     "output_type": "stream",
     "text": [
      "cuda\n"
     ]
    }
   ],
   "source": [
    "device = torch.device('cuda' if torch.cuda.is_available() else 'cpu') #Use GPU if it's available or else use CPU.\n",
    "print(device) #Prints the device we're using."
   ]
  },
  {
   "cell_type": "markdown",
   "metadata": {},
   "source": [
    "This will display the GPU device name "
   ]
  },
  {
   "cell_type": "code",
   "execution_count": 3,
   "metadata": {},
   "outputs": [
    {
     "data": {
      "text/plain": [
       "'NVIDIA GeForce RTX 2080 Ti'"
      ]
     },
     "execution_count": 3,
     "metadata": {},
     "output_type": "execute_result"
    }
   ],
   "source": [
    "torch.cuda.get_device_name()"
   ]
  },
  {
   "cell_type": "markdown",
   "metadata": {},
   "source": [
    "`ImageFolder` is a class in PyTorch that helps us to load the data as tensors. "
   ]
  },
  {
   "cell_type": "code",
   "execution_count": 5,
   "metadata": {},
   "outputs": [
    {
     "data": {
      "text/plain": [
       "(10800, ['0', '1', '2', '3'])"
      ]
     },
     "execution_count": 5,
     "metadata": {},
     "output_type": "execute_result"
    }
   ],
   "source": [
    "dataset = ImageFolder('../MASIDOR',transform=transforms.Compose([transforms.ToTensor(),\n",
    "        transforms.Normalize([0.3080, 0.1464, 0.0501],[0.3346, 0.1610, 0.0558])]))\n",
    "len(dataset),dataset.classes"
   ]
  },
  {
   "cell_type": "markdown",
   "metadata": {},
   "source": [
    "### To get the standard deviation and mean of the messidor dataset"
   ]
  },
  {
   "cell_type": "code",
   "execution_count": 6,
   "metadata": {},
   "outputs": [],
   "source": [
    "def meanNstd(loader):\n",
    "    mean = 0.0\n",
    "    std = 0.0\n",
    "    total_images=0\n",
    "    for images,_ in tqdm(loader):\n",
    "        images_per_batch = images.size(0)\n",
    "        images = images.view(images_per_batch,images.size(1),-1)\n",
    "        mean += images.mean(2).sum(0)\n",
    "        std += images.std(2).sum(0)\n",
    "\n",
    "        total_images += images_per_batch\n",
    "\n",
    "    mean /= total_images\n",
    "    std /= total_images\n",
    "    return mean,std\n",
    "\n"
   ]
  },
  {
   "cell_type": "code",
   "execution_count": 8,
   "metadata": {},
   "outputs": [],
   "source": [
    "# meanNstd(loader)"
   ]
  },
  {
   "cell_type": "markdown",
   "metadata": {},
   "source": [
    "`outDim` function calculates the ouput dimension of an image after a convolution operation. "
   ]
  },
  {
   "cell_type": "code",
   "execution_count": 9,
   "metadata": {},
   "outputs": [],
   "source": [
    "outDim = lambda i,k,p=0,s=1: (i+2*p-k)//s +1"
   ]
  },
  {
   "cell_type": "markdown",
   "metadata": {},
   "source": [
    "Defining our Model\n",
    "\n",
    "In this case we are using `Efficient Net B0`"
   ]
  },
  {
   "cell_type": "code",
   "execution_count": 6,
   "metadata": {},
   "outputs": [],
   "source": [
    "\n",
    "model = models.efficientnet_b0(True)\n",
    "model.classifier = nn.Sequential(nn.Dropout(0.5,inplace=True),\n",
    "                            nn.Linear(1280,4,bias=True))\n"
   ]
  },
  {
   "cell_type": "code",
   "execution_count": 9,
   "metadata": {},
   "outputs": [
    {
     "name": "stdout",
     "output_type": "stream",
     "text": [
      "----------------------------------------------------------------\n",
      "        Layer (type)               Output Shape         Param #\n",
      "================================================================\n",
      "            Conv2d-1         [-1, 32, 256, 256]             864\n",
      "       BatchNorm2d-2         [-1, 32, 256, 256]              64\n",
      "              SiLU-3         [-1, 32, 256, 256]               0\n",
      "            Conv2d-4         [-1, 32, 256, 256]             288\n",
      "       BatchNorm2d-5         [-1, 32, 256, 256]              64\n",
      "              SiLU-6         [-1, 32, 256, 256]               0\n",
      " AdaptiveAvgPool2d-7             [-1, 32, 1, 1]               0\n",
      "            Conv2d-8              [-1, 8, 1, 1]             264\n",
      "              SiLU-9              [-1, 8, 1, 1]               0\n",
      "           Conv2d-10             [-1, 32, 1, 1]             288\n",
      "          Sigmoid-11             [-1, 32, 1, 1]               0\n",
      "SqueezeExcitation-12         [-1, 32, 256, 256]               0\n",
      "           Conv2d-13         [-1, 16, 256, 256]             512\n",
      "      BatchNorm2d-14         [-1, 16, 256, 256]              32\n",
      "           MBConv-15         [-1, 16, 256, 256]               0\n",
      "           Conv2d-16         [-1, 96, 256, 256]           1,536\n",
      "      BatchNorm2d-17         [-1, 96, 256, 256]             192\n",
      "             SiLU-18         [-1, 96, 256, 256]               0\n",
      "           Conv2d-19         [-1, 96, 128, 128]             864\n",
      "      BatchNorm2d-20         [-1, 96, 128, 128]             192\n",
      "             SiLU-21         [-1, 96, 128, 128]               0\n",
      "AdaptiveAvgPool2d-22             [-1, 96, 1, 1]               0\n",
      "           Conv2d-23              [-1, 4, 1, 1]             388\n",
      "             SiLU-24              [-1, 4, 1, 1]               0\n",
      "           Conv2d-25             [-1, 96, 1, 1]             480\n",
      "          Sigmoid-26             [-1, 96, 1, 1]               0\n",
      "SqueezeExcitation-27         [-1, 96, 128, 128]               0\n",
      "           Conv2d-28         [-1, 24, 128, 128]           2,304\n",
      "      BatchNorm2d-29         [-1, 24, 128, 128]              48\n",
      "           MBConv-30         [-1, 24, 128, 128]               0\n",
      "           Conv2d-31        [-1, 144, 128, 128]           3,456\n",
      "      BatchNorm2d-32        [-1, 144, 128, 128]             288\n",
      "             SiLU-33        [-1, 144, 128, 128]               0\n",
      "           Conv2d-34        [-1, 144, 128, 128]           1,296\n",
      "      BatchNorm2d-35        [-1, 144, 128, 128]             288\n",
      "             SiLU-36        [-1, 144, 128, 128]               0\n",
      "AdaptiveAvgPool2d-37            [-1, 144, 1, 1]               0\n",
      "           Conv2d-38              [-1, 6, 1, 1]             870\n",
      "             SiLU-39              [-1, 6, 1, 1]               0\n",
      "           Conv2d-40            [-1, 144, 1, 1]           1,008\n",
      "          Sigmoid-41            [-1, 144, 1, 1]               0\n",
      "SqueezeExcitation-42        [-1, 144, 128, 128]               0\n",
      "           Conv2d-43         [-1, 24, 128, 128]           3,456\n",
      "      BatchNorm2d-44         [-1, 24, 128, 128]              48\n",
      "  StochasticDepth-45         [-1, 24, 128, 128]               0\n",
      "           MBConv-46         [-1, 24, 128, 128]               0\n",
      "           Conv2d-47        [-1, 144, 128, 128]           3,456\n",
      "      BatchNorm2d-48        [-1, 144, 128, 128]             288\n",
      "             SiLU-49        [-1, 144, 128, 128]               0\n",
      "           Conv2d-50          [-1, 144, 64, 64]           3,600\n",
      "      BatchNorm2d-51          [-1, 144, 64, 64]             288\n",
      "             SiLU-52          [-1, 144, 64, 64]               0\n",
      "AdaptiveAvgPool2d-53            [-1, 144, 1, 1]               0\n",
      "           Conv2d-54              [-1, 6, 1, 1]             870\n",
      "             SiLU-55              [-1, 6, 1, 1]               0\n",
      "           Conv2d-56            [-1, 144, 1, 1]           1,008\n",
      "          Sigmoid-57            [-1, 144, 1, 1]               0\n",
      "SqueezeExcitation-58          [-1, 144, 64, 64]               0\n",
      "           Conv2d-59           [-1, 40, 64, 64]           5,760\n",
      "      BatchNorm2d-60           [-1, 40, 64, 64]              80\n",
      "           MBConv-61           [-1, 40, 64, 64]               0\n",
      "           Conv2d-62          [-1, 240, 64, 64]           9,600\n",
      "      BatchNorm2d-63          [-1, 240, 64, 64]             480\n",
      "             SiLU-64          [-1, 240, 64, 64]               0\n",
      "           Conv2d-65          [-1, 240, 64, 64]           6,000\n",
      "      BatchNorm2d-66          [-1, 240, 64, 64]             480\n",
      "             SiLU-67          [-1, 240, 64, 64]               0\n",
      "AdaptiveAvgPool2d-68            [-1, 240, 1, 1]               0\n",
      "           Conv2d-69             [-1, 10, 1, 1]           2,410\n",
      "             SiLU-70             [-1, 10, 1, 1]               0\n",
      "           Conv2d-71            [-1, 240, 1, 1]           2,640\n",
      "          Sigmoid-72            [-1, 240, 1, 1]               0\n",
      "SqueezeExcitation-73          [-1, 240, 64, 64]               0\n",
      "           Conv2d-74           [-1, 40, 64, 64]           9,600\n",
      "      BatchNorm2d-75           [-1, 40, 64, 64]              80\n",
      "  StochasticDepth-76           [-1, 40, 64, 64]               0\n",
      "           MBConv-77           [-1, 40, 64, 64]               0\n",
      "           Conv2d-78          [-1, 240, 64, 64]           9,600\n",
      "      BatchNorm2d-79          [-1, 240, 64, 64]             480\n",
      "             SiLU-80          [-1, 240, 64, 64]               0\n",
      "           Conv2d-81          [-1, 240, 32, 32]           2,160\n",
      "      BatchNorm2d-82          [-1, 240, 32, 32]             480\n",
      "             SiLU-83          [-1, 240, 32, 32]               0\n",
      "AdaptiveAvgPool2d-84            [-1, 240, 1, 1]               0\n",
      "           Conv2d-85             [-1, 10, 1, 1]           2,410\n",
      "             SiLU-86             [-1, 10, 1, 1]               0\n",
      "           Conv2d-87            [-1, 240, 1, 1]           2,640\n",
      "          Sigmoid-88            [-1, 240, 1, 1]               0\n",
      "SqueezeExcitation-89          [-1, 240, 32, 32]               0\n",
      "           Conv2d-90           [-1, 80, 32, 32]          19,200\n",
      "      BatchNorm2d-91           [-1, 80, 32, 32]             160\n",
      "           MBConv-92           [-1, 80, 32, 32]               0\n",
      "           Conv2d-93          [-1, 480, 32, 32]          38,400\n",
      "      BatchNorm2d-94          [-1, 480, 32, 32]             960\n",
      "             SiLU-95          [-1, 480, 32, 32]               0\n",
      "           Conv2d-96          [-1, 480, 32, 32]           4,320\n",
      "      BatchNorm2d-97          [-1, 480, 32, 32]             960\n",
      "             SiLU-98          [-1, 480, 32, 32]               0\n",
      "AdaptiveAvgPool2d-99            [-1, 480, 1, 1]               0\n",
      "          Conv2d-100             [-1, 20, 1, 1]           9,620\n",
      "            SiLU-101             [-1, 20, 1, 1]               0\n",
      "          Conv2d-102            [-1, 480, 1, 1]          10,080\n",
      "         Sigmoid-103            [-1, 480, 1, 1]               0\n",
      "SqueezeExcitation-104          [-1, 480, 32, 32]               0\n",
      "          Conv2d-105           [-1, 80, 32, 32]          38,400\n",
      "     BatchNorm2d-106           [-1, 80, 32, 32]             160\n",
      " StochasticDepth-107           [-1, 80, 32, 32]               0\n",
      "          MBConv-108           [-1, 80, 32, 32]               0\n",
      "          Conv2d-109          [-1, 480, 32, 32]          38,400\n",
      "     BatchNorm2d-110          [-1, 480, 32, 32]             960\n",
      "            SiLU-111          [-1, 480, 32, 32]               0\n",
      "          Conv2d-112          [-1, 480, 32, 32]           4,320\n",
      "     BatchNorm2d-113          [-1, 480, 32, 32]             960\n",
      "            SiLU-114          [-1, 480, 32, 32]               0\n",
      "AdaptiveAvgPool2d-115            [-1, 480, 1, 1]               0\n",
      "          Conv2d-116             [-1, 20, 1, 1]           9,620\n",
      "            SiLU-117             [-1, 20, 1, 1]               0\n",
      "          Conv2d-118            [-1, 480, 1, 1]          10,080\n",
      "         Sigmoid-119            [-1, 480, 1, 1]               0\n",
      "SqueezeExcitation-120          [-1, 480, 32, 32]               0\n",
      "          Conv2d-121           [-1, 80, 32, 32]          38,400\n",
      "     BatchNorm2d-122           [-1, 80, 32, 32]             160\n",
      " StochasticDepth-123           [-1, 80, 32, 32]               0\n",
      "          MBConv-124           [-1, 80, 32, 32]               0\n",
      "          Conv2d-125          [-1, 480, 32, 32]          38,400\n",
      "     BatchNorm2d-126          [-1, 480, 32, 32]             960\n",
      "            SiLU-127          [-1, 480, 32, 32]               0\n",
      "          Conv2d-128          [-1, 480, 32, 32]          12,000\n",
      "     BatchNorm2d-129          [-1, 480, 32, 32]             960\n",
      "            SiLU-130          [-1, 480, 32, 32]               0\n",
      "AdaptiveAvgPool2d-131            [-1, 480, 1, 1]               0\n",
      "          Conv2d-132             [-1, 20, 1, 1]           9,620\n",
      "            SiLU-133             [-1, 20, 1, 1]               0\n",
      "          Conv2d-134            [-1, 480, 1, 1]          10,080\n",
      "         Sigmoid-135            [-1, 480, 1, 1]               0\n",
      "SqueezeExcitation-136          [-1, 480, 32, 32]               0\n",
      "          Conv2d-137          [-1, 112, 32, 32]          53,760\n",
      "     BatchNorm2d-138          [-1, 112, 32, 32]             224\n",
      "          MBConv-139          [-1, 112, 32, 32]               0\n",
      "          Conv2d-140          [-1, 672, 32, 32]          75,264\n",
      "     BatchNorm2d-141          [-1, 672, 32, 32]           1,344\n",
      "            SiLU-142          [-1, 672, 32, 32]               0\n",
      "          Conv2d-143          [-1, 672, 32, 32]          16,800\n",
      "     BatchNorm2d-144          [-1, 672, 32, 32]           1,344\n",
      "            SiLU-145          [-1, 672, 32, 32]               0\n",
      "AdaptiveAvgPool2d-146            [-1, 672, 1, 1]               0\n",
      "          Conv2d-147             [-1, 28, 1, 1]          18,844\n",
      "            SiLU-148             [-1, 28, 1, 1]               0\n",
      "          Conv2d-149            [-1, 672, 1, 1]          19,488\n",
      "         Sigmoid-150            [-1, 672, 1, 1]               0\n",
      "SqueezeExcitation-151          [-1, 672, 32, 32]               0\n",
      "          Conv2d-152          [-1, 112, 32, 32]          75,264\n",
      "     BatchNorm2d-153          [-1, 112, 32, 32]             224\n",
      " StochasticDepth-154          [-1, 112, 32, 32]               0\n",
      "          MBConv-155          [-1, 112, 32, 32]               0\n",
      "          Conv2d-156          [-1, 672, 32, 32]          75,264\n",
      "     BatchNorm2d-157          [-1, 672, 32, 32]           1,344\n",
      "            SiLU-158          [-1, 672, 32, 32]               0\n",
      "          Conv2d-159          [-1, 672, 32, 32]          16,800\n",
      "     BatchNorm2d-160          [-1, 672, 32, 32]           1,344\n",
      "            SiLU-161          [-1, 672, 32, 32]               0\n",
      "AdaptiveAvgPool2d-162            [-1, 672, 1, 1]               0\n",
      "          Conv2d-163             [-1, 28, 1, 1]          18,844\n",
      "            SiLU-164             [-1, 28, 1, 1]               0\n",
      "          Conv2d-165            [-1, 672, 1, 1]          19,488\n",
      "         Sigmoid-166            [-1, 672, 1, 1]               0\n",
      "SqueezeExcitation-167          [-1, 672, 32, 32]               0\n",
      "          Conv2d-168          [-1, 112, 32, 32]          75,264\n",
      "     BatchNorm2d-169          [-1, 112, 32, 32]             224\n",
      " StochasticDepth-170          [-1, 112, 32, 32]               0\n",
      "          MBConv-171          [-1, 112, 32, 32]               0\n",
      "          Conv2d-172          [-1, 672, 32, 32]          75,264\n",
      "     BatchNorm2d-173          [-1, 672, 32, 32]           1,344\n",
      "            SiLU-174          [-1, 672, 32, 32]               0\n",
      "          Conv2d-175          [-1, 672, 16, 16]          16,800\n",
      "     BatchNorm2d-176          [-1, 672, 16, 16]           1,344\n",
      "            SiLU-177          [-1, 672, 16, 16]               0\n",
      "AdaptiveAvgPool2d-178            [-1, 672, 1, 1]               0\n",
      "          Conv2d-179             [-1, 28, 1, 1]          18,844\n",
      "            SiLU-180             [-1, 28, 1, 1]               0\n",
      "          Conv2d-181            [-1, 672, 1, 1]          19,488\n",
      "         Sigmoid-182            [-1, 672, 1, 1]               0\n",
      "SqueezeExcitation-183          [-1, 672, 16, 16]               0\n",
      "          Conv2d-184          [-1, 192, 16, 16]         129,024\n",
      "     BatchNorm2d-185          [-1, 192, 16, 16]             384\n",
      "          MBConv-186          [-1, 192, 16, 16]               0\n",
      "          Conv2d-187         [-1, 1152, 16, 16]         221,184\n",
      "     BatchNorm2d-188         [-1, 1152, 16, 16]           2,304\n",
      "            SiLU-189         [-1, 1152, 16, 16]               0\n",
      "          Conv2d-190         [-1, 1152, 16, 16]          28,800\n",
      "     BatchNorm2d-191         [-1, 1152, 16, 16]           2,304\n",
      "            SiLU-192         [-1, 1152, 16, 16]               0\n",
      "AdaptiveAvgPool2d-193           [-1, 1152, 1, 1]               0\n",
      "          Conv2d-194             [-1, 48, 1, 1]          55,344\n",
      "            SiLU-195             [-1, 48, 1, 1]               0\n",
      "          Conv2d-196           [-1, 1152, 1, 1]          56,448\n",
      "         Sigmoid-197           [-1, 1152, 1, 1]               0\n",
      "SqueezeExcitation-198         [-1, 1152, 16, 16]               0\n",
      "          Conv2d-199          [-1, 192, 16, 16]         221,184\n",
      "     BatchNorm2d-200          [-1, 192, 16, 16]             384\n",
      " StochasticDepth-201          [-1, 192, 16, 16]               0\n",
      "          MBConv-202          [-1, 192, 16, 16]               0\n",
      "          Conv2d-203         [-1, 1152, 16, 16]         221,184\n",
      "     BatchNorm2d-204         [-1, 1152, 16, 16]           2,304\n",
      "            SiLU-205         [-1, 1152, 16, 16]               0\n",
      "          Conv2d-206         [-1, 1152, 16, 16]          28,800\n",
      "     BatchNorm2d-207         [-1, 1152, 16, 16]           2,304\n",
      "            SiLU-208         [-1, 1152, 16, 16]               0\n",
      "AdaptiveAvgPool2d-209           [-1, 1152, 1, 1]               0\n",
      "          Conv2d-210             [-1, 48, 1, 1]          55,344\n",
      "            SiLU-211             [-1, 48, 1, 1]               0\n",
      "          Conv2d-212           [-1, 1152, 1, 1]          56,448\n",
      "         Sigmoid-213           [-1, 1152, 1, 1]               0\n",
      "SqueezeExcitation-214         [-1, 1152, 16, 16]               0\n",
      "          Conv2d-215          [-1, 192, 16, 16]         221,184\n",
      "     BatchNorm2d-216          [-1, 192, 16, 16]             384\n",
      " StochasticDepth-217          [-1, 192, 16, 16]               0\n",
      "          MBConv-218          [-1, 192, 16, 16]               0\n",
      "          Conv2d-219         [-1, 1152, 16, 16]         221,184\n",
      "     BatchNorm2d-220         [-1, 1152, 16, 16]           2,304\n",
      "            SiLU-221         [-1, 1152, 16, 16]               0\n",
      "          Conv2d-222         [-1, 1152, 16, 16]          28,800\n",
      "     BatchNorm2d-223         [-1, 1152, 16, 16]           2,304\n",
      "            SiLU-224         [-1, 1152, 16, 16]               0\n",
      "AdaptiveAvgPool2d-225           [-1, 1152, 1, 1]               0\n",
      "          Conv2d-226             [-1, 48, 1, 1]          55,344\n",
      "            SiLU-227             [-1, 48, 1, 1]               0\n",
      "          Conv2d-228           [-1, 1152, 1, 1]          56,448\n",
      "         Sigmoid-229           [-1, 1152, 1, 1]               0\n",
      "SqueezeExcitation-230         [-1, 1152, 16, 16]               0\n",
      "          Conv2d-231          [-1, 192, 16, 16]         221,184\n",
      "     BatchNorm2d-232          [-1, 192, 16, 16]             384\n",
      " StochasticDepth-233          [-1, 192, 16, 16]               0\n",
      "          MBConv-234          [-1, 192, 16, 16]               0\n",
      "          Conv2d-235         [-1, 1152, 16, 16]         221,184\n",
      "     BatchNorm2d-236         [-1, 1152, 16, 16]           2,304\n",
      "            SiLU-237         [-1, 1152, 16, 16]               0\n",
      "          Conv2d-238         [-1, 1152, 16, 16]          10,368\n",
      "     BatchNorm2d-239         [-1, 1152, 16, 16]           2,304\n",
      "            SiLU-240         [-1, 1152, 16, 16]               0\n",
      "AdaptiveAvgPool2d-241           [-1, 1152, 1, 1]               0\n",
      "          Conv2d-242             [-1, 48, 1, 1]          55,344\n",
      "            SiLU-243             [-1, 48, 1, 1]               0\n",
      "          Conv2d-244           [-1, 1152, 1, 1]          56,448\n",
      "         Sigmoid-245           [-1, 1152, 1, 1]               0\n",
      "SqueezeExcitation-246         [-1, 1152, 16, 16]               0\n",
      "          Conv2d-247          [-1, 320, 16, 16]         368,640\n",
      "     BatchNorm2d-248          [-1, 320, 16, 16]             640\n",
      "          MBConv-249          [-1, 320, 16, 16]               0\n",
      "          Conv2d-250         [-1, 1280, 16, 16]         409,600\n",
      "     BatchNorm2d-251         [-1, 1280, 16, 16]           2,560\n",
      "            SiLU-252         [-1, 1280, 16, 16]               0\n",
      "AdaptiveAvgPool2d-253           [-1, 1280, 1, 1]               0\n",
      "         Dropout-254                 [-1, 1280]               0\n",
      "          Linear-255                    [-1, 4]           5,124\n",
      "================================================================\n",
      "Total params: 4,012,672\n",
      "Trainable params: 4,012,672\n",
      "Non-trainable params: 0\n",
      "----------------------------------------------------------------\n",
      "Input size (MB): 3.00\n",
      "Forward/backward pass size (MB): 906.23\n",
      "Params size (MB): 15.31\n",
      "Estimated Total Size (MB): 924.54\n",
      "----------------------------------------------------------------\n"
     ]
    }
   ],
   "source": [
    "model.to(device)\n",
    "summary(model,(3,512,512))"
   ]
  },
  {
   "cell_type": "markdown",
   "metadata": {},
   "source": [
    "Splitting the dataset into Train Set, Validation Set and Test Set.\n",
    "\n",
    "`Train set : validation set : test set :: 70:10:20`"
   ]
  },
  {
   "cell_type": "code",
   "execution_count": 10,
   "metadata": {},
   "outputs": [
    {
     "data": {
      "text/plain": [
       "(7560, 1080, 2160)"
      ]
     },
     "execution_count": 10,
     "metadata": {},
     "output_type": "execute_result"
    }
   ],
   "source": [
    "# train,val,test = torch.utils.data.random_split(dataset, [3360,480,960])\n",
    "train,val,test = torch.utils.data.random_split(dataset, [7560,1080,2160])\n",
    "# train,val,test = torch.utils.data.random_split(dataset, [840,120,240])\n",
    "len(train), len(val), len(test)"
   ]
  },
  {
   "cell_type": "code",
   "execution_count": 11,
   "metadata": {},
   "outputs": [],
   "source": [
    "batch=16\n",
    "train_dl = DataLoader(train,batch,shuffle=True,num_workers=4)\n",
    "val_ds = DataLoader(val,batch,num_workers=4,shuffle = False)\n",
    "test_dl = DataLoader(test,batch,num_workers=4,shuffle = False)"
   ]
  },
  {
   "cell_type": "code",
   "execution_count": 12,
   "metadata": {},
   "outputs": [
    {
     "data": {
      "text/plain": [
       "(473, 68, 135)"
      ]
     },
     "execution_count": 12,
     "metadata": {},
     "output_type": "execute_result"
    }
   ],
   "source": [
    "len(train_dl),len(val_ds),len(test_dl)"
   ]
  },
  {
   "cell_type": "markdown",
   "metadata": {},
   "source": [
    "`detach()` is used to detach a tensor from the current computational graph. It returns a new tensor that doesn't require a gradient. When we don't need a tensor to be traced for the gradient computation, we detach the tensor from the current computational graph."
   ]
  },
  {
   "cell_type": "markdown",
   "metadata": {},
   "source": [
    "Defining the Train function for training"
   ]
  },
  {
   "cell_type": "code",
   "execution_count": 13,
   "metadata": {},
   "outputs": [],
   "source": [
    "\n",
    "def train(dataloader,model,loss_fn,optimizer):\n",
    "    model.train()\n",
    "    total= 0 \n",
    "    correct = 0\n",
    "    running_loss = 0\n",
    "\n",
    "    for (x,y) in tqdm(dataloader):\n",
    "        output = model(x.to(device))\n",
    "        loss = loss_fn(output,y.to(device))\n",
    "\n",
    "        # l2_lambda = 0.01\n",
    "        # # l2_norm = sum(p.pow(2).sum() for p in model.parameters())\n",
    "        # # loss += (l2_lambda * l2_norm)/(batch*len(dataloader))\n",
    "        # # print(output)\n",
    "        # l2_reg = torch.autograd.Variable( torch.cuda.FloatTensor(1), requires_grad=True)\n",
    "        # for W in model.parameters():\n",
    "        #     l2_reg = l2_reg + W.norm(2)\n",
    "        # loss = loss + (l2_reg * l2_lambda)/(batch*len(dataloader))\n",
    "        # loss+=loss\n",
    "        running_loss += loss.item()\n",
    "        total += y.size(0)\n",
    "        predictions = output.argmax(dim=1).cpu().detach()\n",
    "        # index of the highest score for all the samples in the batch\n",
    "        correct += (predictions==y.cpu().detach()).sum().item()\n",
    "        optimizer.zero_grad()\n",
    "        loss.backward()\n",
    "        optimizer.step()\n",
    "    acc=100*(correct/total)\n",
    "    avg_loss = running_loss/len(dataloader) # average loss for a single batch\n",
    "    print(f'\\nTraining Loss = {avg_loss:.6f}',end='\\t')\n",
    "    print(f'Accuracy on Training set = {100*(correct/total):.6f}% [{correct}/{total}]') #Prints the Accuracy.\n",
    "    \n",
    "    return avg_loss,acc\n"
   ]
  },
  {
   "cell_type": "markdown",
   "metadata": {},
   "source": [
    "Defining the validate function for cross validation while training"
   ]
  },
  {
   "cell_type": "code",
   "execution_count": 14,
   "metadata": {},
   "outputs": [],
   "source": [
    "def validate(dataloader,model,loss_fn):\n",
    "\n",
    "#     model in evaluation mode\n",
    "    model.eval() \n",
    "    \n",
    "    total = 0\n",
    "    correct = 0\n",
    "    running_loss = 0\n",
    "    \n",
    "    with torch.no_grad(): # gradients calculation not required\n",
    "        \n",
    "        for x,y in tqdm(dataloader):\n",
    "            \n",
    "            output        = model(x.to(device)) #model's output.\n",
    "\n",
    "            loss          = loss_fn(output,y.to(device)).item() #loss calculation.\n",
    "            running_loss += loss\n",
    "            \n",
    "            total        += y.size(0)\n",
    "            predictions   = output.argmax(dim=1).cpu().detach()\n",
    "            correct      += (predictions == y.cpu().detach()).sum().item()\n",
    "            \n",
    "    avg_loss = running_loss/len(dataloader) #Average loss per batch.      \n",
    "    val_acc = 100*(correct/total)\n",
    "    print(f'\\nValidation Loss = {avg_loss:.6f}',end='\\t')\n",
    "    print(f'Accuracy on Validation set = {100*(correct/total):.6f}% [{correct}/{total}]') #Prints the Accuracy.\n",
    "    \n",
    "    return avg_loss,val_acc"
   ]
  },
  {
   "cell_type": "code",
   "execution_count": 15,
   "metadata": {},
   "outputs": [],
   "source": [
    "def optimize(train_dataloader,valid_dataloader,model,loss_fn,optimizer,nb_epochs):\n",
    "   \n",
    "    train_losses = []\n",
    "    valid_losses = []\n",
    "    val= []\n",
    "    acc=[]\n",
    "\n",
    "    for epoch in range(nb_epochs):\n",
    "        print(f'\\nEpoch {epoch+1}/{nb_epochs}')\n",
    "        print('-------------------------------')\n",
    "        train_loss,a = train(train_dataloader,model,loss_fn,optimizer) \n",
    "        train_losses.append(train_loss)\n",
    "        valid_loss,val_acc = validate(valid_dataloader,model,loss_fn)\n",
    "        valid_losses.append(valid_loss)\n",
    "        val.append(val_acc)\n",
    "        acc.append(a)\n",
    "    \n",
    "    print('\\nTraining has completed!')\n",
    "    \n",
    "    return train_losses,valid_losses,val,acc"
   ]
  },
  {
   "cell_type": "markdown",
   "metadata": {},
   "source": [
    "- Loss function : Cross Entropy Loss\n",
    "- Optimizer : Adam\n",
    "- Epochs : 40\n",
    "- Learning Rate : 0.0003"
   ]
  },
  {
   "cell_type": "code",
   "execution_count": 16,
   "metadata": {},
   "outputs": [
    {
     "name": "stdout",
     "output_type": "stream",
     "text": [
      "\n",
      "Epoch 1/40\n",
      "-------------------------------\n"
     ]
    },
    {
     "data": {
      "application/vnd.jupyter.widget-view+json": {
       "model_id": "6220827362a0438a98b4114a55c31883",
       "version_major": 2,
       "version_minor": 0
      },
      "text/plain": [
       "HBox(children=(HTML(value=''), FloatProgress(value=0.0, max=473.0), HTML(value='')))"
      ]
     },
     "metadata": {},
     "output_type": "display_data"
    },
    {
     "name": "stdout",
     "output_type": "stream",
     "text": [
      "\n",
      "\n",
      "Training Loss = 0.724026\tAccuracy on Training set = 71.904762% [5436/7560]\n"
     ]
    },
    {
     "data": {
      "application/vnd.jupyter.widget-view+json": {
       "model_id": "f475b2b27f15436189c90b332d57cbce",
       "version_major": 2,
       "version_minor": 0
      },
      "text/plain": [
       "HBox(children=(HTML(value=''), FloatProgress(value=0.0, max=68.0), HTML(value='')))"
      ]
     },
     "metadata": {},
     "output_type": "display_data"
    },
    {
     "name": "stdout",
     "output_type": "stream",
     "text": [
      "\n",
      "\n",
      "Validation Loss = 0.481741\tAccuracy on Validation set = 81.296296% [878/1080]\n",
      "\n",
      "Epoch 2/40\n",
      "-------------------------------\n"
     ]
    },
    {
     "data": {
      "application/vnd.jupyter.widget-view+json": {
       "model_id": "5e0eca939eb24098a06641e5de0ee8b9",
       "version_major": 2,
       "version_minor": 0
      },
      "text/plain": [
       "HBox(children=(HTML(value=''), FloatProgress(value=0.0, max=473.0), HTML(value='')))"
      ]
     },
     "metadata": {},
     "output_type": "display_data"
    },
    {
     "name": "stdout",
     "output_type": "stream",
     "text": [
      "\n",
      "\n",
      "Training Loss = 0.443815\tAccuracy on Training set = 82.989418% [6274/7560]\n"
     ]
    },
    {
     "data": {
      "application/vnd.jupyter.widget-view+json": {
       "model_id": "1ce1b81400164be09ecbf4742c4909a2",
       "version_major": 2,
       "version_minor": 0
      },
      "text/plain": [
       "HBox(children=(HTML(value=''), FloatProgress(value=0.0, max=68.0), HTML(value='')))"
      ]
     },
     "metadata": {},
     "output_type": "display_data"
    },
    {
     "name": "stdout",
     "output_type": "stream",
     "text": [
      "\n",
      "\n",
      "Validation Loss = 0.353821\tAccuracy on Validation set = 87.037037% [940/1080]\n",
      "\n",
      "Epoch 3/40\n",
      "-------------------------------\n"
     ]
    },
    {
     "data": {
      "application/vnd.jupyter.widget-view+json": {
       "model_id": "aa020273946c44549054aa857ed49487",
       "version_major": 2,
       "version_minor": 0
      },
      "text/plain": [
       "HBox(children=(HTML(value=''), FloatProgress(value=0.0, max=473.0), HTML(value='')))"
      ]
     },
     "metadata": {},
     "output_type": "display_data"
    },
    {
     "name": "stdout",
     "output_type": "stream",
     "text": [
      "\n",
      "\n",
      "Training Loss = 0.263645\tAccuracy on Training set = 90.251323% [6823/7560]\n"
     ]
    },
    {
     "data": {
      "application/vnd.jupyter.widget-view+json": {
       "model_id": "978006f1c5ae45edb836fc5ea84bd993",
       "version_major": 2,
       "version_minor": 0
      },
      "text/plain": [
       "HBox(children=(HTML(value=''), FloatProgress(value=0.0, max=68.0), HTML(value='')))"
      ]
     },
     "metadata": {},
     "output_type": "display_data"
    },
    {
     "name": "stdout",
     "output_type": "stream",
     "text": [
      "\n",
      "\n",
      "Validation Loss = 0.281537\tAccuracy on Validation set = 89.166667% [963/1080]\n",
      "\n",
      "Epoch 4/40\n",
      "-------------------------------\n"
     ]
    },
    {
     "data": {
      "application/vnd.jupyter.widget-view+json": {
       "model_id": "592dbe78ae914ec8906645916c10f0c4",
       "version_major": 2,
       "version_minor": 0
      },
      "text/plain": [
       "HBox(children=(HTML(value=''), FloatProgress(value=0.0, max=473.0), HTML(value='')))"
      ]
     },
     "metadata": {},
     "output_type": "display_data"
    },
    {
     "name": "stdout",
     "output_type": "stream",
     "text": [
      "\n",
      "\n",
      "Training Loss = 0.184402\tAccuracy on Training set = 93.425926% [7063/7560]\n"
     ]
    },
    {
     "data": {
      "application/vnd.jupyter.widget-view+json": {
       "model_id": "d9d3027306294d5aa8c0ac1d33288bc1",
       "version_major": 2,
       "version_minor": 0
      },
      "text/plain": [
       "HBox(children=(HTML(value=''), FloatProgress(value=0.0, max=68.0), HTML(value='')))"
      ]
     },
     "metadata": {},
     "output_type": "display_data"
    },
    {
     "name": "stdout",
     "output_type": "stream",
     "text": [
      "\n",
      "\n",
      "Validation Loss = 0.231274\tAccuracy on Validation set = 91.296296% [986/1080]\n",
      "\n",
      "Epoch 5/40\n",
      "-------------------------------\n"
     ]
    },
    {
     "data": {
      "application/vnd.jupyter.widget-view+json": {
       "model_id": "de603e274afa4f2384fe5c0f89ef6292",
       "version_major": 2,
       "version_minor": 0
      },
      "text/plain": [
       "HBox(children=(HTML(value=''), FloatProgress(value=0.0, max=473.0), HTML(value='')))"
      ]
     },
     "metadata": {},
     "output_type": "display_data"
    },
    {
     "name": "stdout",
     "output_type": "stream",
     "text": [
      "\n",
      "\n",
      "Training Loss = 0.115007\tAccuracy on Training set = 96.124339% [7267/7560]\n"
     ]
    },
    {
     "data": {
      "application/vnd.jupyter.widget-view+json": {
       "model_id": "9118bfb09ca04fd18b7c10701d408fbe",
       "version_major": 2,
       "version_minor": 0
      },
      "text/plain": [
       "HBox(children=(HTML(value=''), FloatProgress(value=0.0, max=68.0), HTML(value='')))"
      ]
     },
     "metadata": {},
     "output_type": "display_data"
    },
    {
     "name": "stdout",
     "output_type": "stream",
     "text": [
      "\n",
      "\n",
      "Validation Loss = 0.278175\tAccuracy on Validation set = 90.648148% [979/1080]\n",
      "\n",
      "Epoch 6/40\n",
      "-------------------------------\n"
     ]
    },
    {
     "data": {
      "application/vnd.jupyter.widget-view+json": {
       "model_id": "27d5c18c0d3846f49baa185a583b9fb8",
       "version_major": 2,
       "version_minor": 0
      },
      "text/plain": [
       "HBox(children=(HTML(value=''), FloatProgress(value=0.0, max=473.0), HTML(value='')))"
      ]
     },
     "metadata": {},
     "output_type": "display_data"
    },
    {
     "name": "stdout",
     "output_type": "stream",
     "text": [
      "\n",
      "\n",
      "Training Loss = 0.111074\tAccuracy on Training set = 96.084656% [7264/7560]\n"
     ]
    },
    {
     "data": {
      "application/vnd.jupyter.widget-view+json": {
       "model_id": "03c32013fe8b486ea56e80eaded315c5",
       "version_major": 2,
       "version_minor": 0
      },
      "text/plain": [
       "HBox(children=(HTML(value=''), FloatProgress(value=0.0, max=68.0), HTML(value='')))"
      ]
     },
     "metadata": {},
     "output_type": "display_data"
    },
    {
     "name": "stdout",
     "output_type": "stream",
     "text": [
      "\n",
      "\n",
      "Validation Loss = 0.190028\tAccuracy on Validation set = 93.148148% [1006/1080]\n",
      "\n",
      "Epoch 7/40\n",
      "-------------------------------\n"
     ]
    },
    {
     "data": {
      "application/vnd.jupyter.widget-view+json": {
       "model_id": "0fa92d9eb9574fa9b2e173c2ea6ac9ce",
       "version_major": 2,
       "version_minor": 0
      },
      "text/plain": [
       "HBox(children=(HTML(value=''), FloatProgress(value=0.0, max=473.0), HTML(value='')))"
      ]
     },
     "metadata": {},
     "output_type": "display_data"
    },
    {
     "name": "stdout",
     "output_type": "stream",
     "text": [
      "\n",
      "\n",
      "Training Loss = 0.080033\tAccuracy on Training set = 97.447090% [7367/7560]\n"
     ]
    },
    {
     "data": {
      "application/vnd.jupyter.widget-view+json": {
       "model_id": "c7bbcdd708db4fb2aa66c5b501eb7d95",
       "version_major": 2,
       "version_minor": 0
      },
      "text/plain": [
       "HBox(children=(HTML(value=''), FloatProgress(value=0.0, max=68.0), HTML(value='')))"
      ]
     },
     "metadata": {},
     "output_type": "display_data"
    },
    {
     "name": "stdout",
     "output_type": "stream",
     "text": [
      "\n",
      "\n",
      "Validation Loss = 0.160202\tAccuracy on Validation set = 94.259259% [1018/1080]\n",
      "\n",
      "Epoch 8/40\n",
      "-------------------------------\n"
     ]
    },
    {
     "data": {
      "application/vnd.jupyter.widget-view+json": {
       "model_id": "258dfaa61046436587ff56fe427e98f5",
       "version_major": 2,
       "version_minor": 0
      },
      "text/plain": [
       "HBox(children=(HTML(value=''), FloatProgress(value=0.0, max=473.0), HTML(value='')))"
      ]
     },
     "metadata": {},
     "output_type": "display_data"
    },
    {
     "name": "stdout",
     "output_type": "stream",
     "text": [
      "\n",
      "\n",
      "Training Loss = 0.064228\tAccuracy on Training set = 97.804233% [7394/7560]\n"
     ]
    },
    {
     "data": {
      "application/vnd.jupyter.widget-view+json": {
       "model_id": "7047d81de83541f9801ce5260bfbcae0",
       "version_major": 2,
       "version_minor": 0
      },
      "text/plain": [
       "HBox(children=(HTML(value=''), FloatProgress(value=0.0, max=68.0), HTML(value='')))"
      ]
     },
     "metadata": {},
     "output_type": "display_data"
    },
    {
     "name": "stdout",
     "output_type": "stream",
     "text": [
      "\n",
      "\n",
      "Validation Loss = 0.187936\tAccuracy on Validation set = 93.148148% [1006/1080]\n",
      "\n",
      "Epoch 9/40\n",
      "-------------------------------\n"
     ]
    },
    {
     "data": {
      "application/vnd.jupyter.widget-view+json": {
       "model_id": "d51ac3a60c704d008d020120f40ba0d4",
       "version_major": 2,
       "version_minor": 0
      },
      "text/plain": [
       "HBox(children=(HTML(value=''), FloatProgress(value=0.0, max=473.0), HTML(value='')))"
      ]
     },
     "metadata": {},
     "output_type": "display_data"
    },
    {
     "name": "stdout",
     "output_type": "stream",
     "text": [
      "\n",
      "\n",
      "Training Loss = 0.060326\tAccuracy on Training set = 97.989418% [7408/7560]\n"
     ]
    },
    {
     "data": {
      "application/vnd.jupyter.widget-view+json": {
       "model_id": "9381af47cc9743119b3e10634fa3854f",
       "version_major": 2,
       "version_minor": 0
      },
      "text/plain": [
       "HBox(children=(HTML(value=''), FloatProgress(value=0.0, max=68.0), HTML(value='')))"
      ]
     },
     "metadata": {},
     "output_type": "display_data"
    },
    {
     "name": "stdout",
     "output_type": "stream",
     "text": [
      "\n",
      "\n",
      "Validation Loss = 0.174061\tAccuracy on Validation set = 94.907407% [1025/1080]\n",
      "\n",
      "Epoch 10/40\n",
      "-------------------------------\n"
     ]
    },
    {
     "data": {
      "application/vnd.jupyter.widget-view+json": {
       "model_id": "30aa0bb0c2404d1a9d0ba06a8754d1b9",
       "version_major": 2,
       "version_minor": 0
      },
      "text/plain": [
       "HBox(children=(HTML(value=''), FloatProgress(value=0.0, max=473.0), HTML(value='')))"
      ]
     },
     "metadata": {},
     "output_type": "display_data"
    },
    {
     "name": "stdout",
     "output_type": "stream",
     "text": [
      "\n",
      "\n",
      "Training Loss = 0.063165\tAccuracy on Training set = 97.830688% [7396/7560]\n"
     ]
    },
    {
     "data": {
      "application/vnd.jupyter.widget-view+json": {
       "model_id": "a40aa68b122c415fa379c741e13755ac",
       "version_major": 2,
       "version_minor": 0
      },
      "text/plain": [
       "HBox(children=(HTML(value=''), FloatProgress(value=0.0, max=68.0), HTML(value='')))"
      ]
     },
     "metadata": {},
     "output_type": "display_data"
    },
    {
     "name": "stdout",
     "output_type": "stream",
     "text": [
      "\n",
      "\n",
      "Validation Loss = 0.152174\tAccuracy on Validation set = 95.185185% [1028/1080]\n",
      "\n",
      "Epoch 11/40\n",
      "-------------------------------\n"
     ]
    },
    {
     "data": {
      "application/vnd.jupyter.widget-view+json": {
       "model_id": "2afd37fc9d9e418d8781cc0aef2b0914",
       "version_major": 2,
       "version_minor": 0
      },
      "text/plain": [
       "HBox(children=(HTML(value=''), FloatProgress(value=0.0, max=473.0), HTML(value='')))"
      ]
     },
     "metadata": {},
     "output_type": "display_data"
    },
    {
     "name": "stdout",
     "output_type": "stream",
     "text": [
      "\n",
      "\n",
      "Training Loss = 0.046732\tAccuracy on Training set = 98.544974% [7450/7560]\n"
     ]
    },
    {
     "data": {
      "application/vnd.jupyter.widget-view+json": {
       "model_id": "354f3f1f297f4e589ccf62590d971112",
       "version_major": 2,
       "version_minor": 0
      },
      "text/plain": [
       "HBox(children=(HTML(value=''), FloatProgress(value=0.0, max=68.0), HTML(value='')))"
      ]
     },
     "metadata": {},
     "output_type": "display_data"
    },
    {
     "name": "stdout",
     "output_type": "stream",
     "text": [
      "\n",
      "\n",
      "Validation Loss = 0.172785\tAccuracy on Validation set = 94.444444% [1020/1080]\n",
      "\n",
      "Epoch 12/40\n",
      "-------------------------------\n"
     ]
    },
    {
     "data": {
      "application/vnd.jupyter.widget-view+json": {
       "model_id": "360eb19faba24d7a815a7a9c408acc45",
       "version_major": 2,
       "version_minor": 0
      },
      "text/plain": [
       "HBox(children=(HTML(value=''), FloatProgress(value=0.0, max=473.0), HTML(value='')))"
      ]
     },
     "metadata": {},
     "output_type": "display_data"
    },
    {
     "name": "stdout",
     "output_type": "stream",
     "text": [
      "\n",
      "\n",
      "Training Loss = 0.047523\tAccuracy on Training set = 98.465608% [7444/7560]\n"
     ]
    },
    {
     "data": {
      "application/vnd.jupyter.widget-view+json": {
       "model_id": "d8732baafb4545c7b7d63b90f5070941",
       "version_major": 2,
       "version_minor": 0
      },
      "text/plain": [
       "HBox(children=(HTML(value=''), FloatProgress(value=0.0, max=68.0), HTML(value='')))"
      ]
     },
     "metadata": {},
     "output_type": "display_data"
    },
    {
     "name": "stdout",
     "output_type": "stream",
     "text": [
      "\n",
      "\n",
      "Validation Loss = 0.122037\tAccuracy on Validation set = 95.740741% [1034/1080]\n",
      "\n",
      "Epoch 13/40\n",
      "-------------------------------\n"
     ]
    },
    {
     "data": {
      "application/vnd.jupyter.widget-view+json": {
       "model_id": "80fb5ae4a52842caacbefb116201f85b",
       "version_major": 2,
       "version_minor": 0
      },
      "text/plain": [
       "HBox(children=(HTML(value=''), FloatProgress(value=0.0, max=473.0), HTML(value='')))"
      ]
     },
     "metadata": {},
     "output_type": "display_data"
    },
    {
     "name": "stdout",
     "output_type": "stream",
     "text": [
      "\n",
      "\n",
      "Training Loss = 0.059769\tAccuracy on Training set = 97.685185% [7385/7560]\n"
     ]
    },
    {
     "data": {
      "application/vnd.jupyter.widget-view+json": {
       "model_id": "a8cb2fec93a84efcafe9654983161eda",
       "version_major": 2,
       "version_minor": 0
      },
      "text/plain": [
       "HBox(children=(HTML(value=''), FloatProgress(value=0.0, max=68.0), HTML(value='')))"
      ]
     },
     "metadata": {},
     "output_type": "display_data"
    },
    {
     "name": "stdout",
     "output_type": "stream",
     "text": [
      "\n",
      "\n",
      "Validation Loss = 0.230216\tAccuracy on Validation set = 94.166667% [1017/1080]\n",
      "\n",
      "Epoch 14/40\n",
      "-------------------------------\n"
     ]
    },
    {
     "data": {
      "application/vnd.jupyter.widget-view+json": {
       "model_id": "b3e2175e1146445591ef0efb624c0cbf",
       "version_major": 2,
       "version_minor": 0
      },
      "text/plain": [
       "HBox(children=(HTML(value=''), FloatProgress(value=0.0, max=473.0), HTML(value='')))"
      ]
     },
     "metadata": {},
     "output_type": "display_data"
    },
    {
     "name": "stdout",
     "output_type": "stream",
     "text": [
      "\n",
      "\n",
      "Training Loss = 0.050150\tAccuracy on Training set = 98.253968% [7428/7560]\n"
     ]
    },
    {
     "data": {
      "application/vnd.jupyter.widget-view+json": {
       "model_id": "d6c0f9638a2b4d788e0196910e2cc17e",
       "version_major": 2,
       "version_minor": 0
      },
      "text/plain": [
       "HBox(children=(HTML(value=''), FloatProgress(value=0.0, max=68.0), HTML(value='')))"
      ]
     },
     "metadata": {},
     "output_type": "display_data"
    },
    {
     "name": "stdout",
     "output_type": "stream",
     "text": [
      "\n",
      "\n",
      "Validation Loss = 0.095906\tAccuracy on Validation set = 96.944444% [1047/1080]\n",
      "\n",
      "Epoch 15/40\n",
      "-------------------------------\n"
     ]
    },
    {
     "data": {
      "application/vnd.jupyter.widget-view+json": {
       "model_id": "be298fd1c2a340d9b298d5c44caeb3d3",
       "version_major": 2,
       "version_minor": 0
      },
      "text/plain": [
       "HBox(children=(HTML(value=''), FloatProgress(value=0.0, max=473.0), HTML(value='')))"
      ]
     },
     "metadata": {},
     "output_type": "display_data"
    },
    {
     "name": "stdout",
     "output_type": "stream",
     "text": [
      "\n",
      "\n",
      "Training Loss = 0.036601\tAccuracy on Training set = 98.822751% [7471/7560]\n"
     ]
    },
    {
     "data": {
      "application/vnd.jupyter.widget-view+json": {
       "model_id": "998e62b24cb54579ae01dfc42d5c6f2a",
       "version_major": 2,
       "version_minor": 0
      },
      "text/plain": [
       "HBox(children=(HTML(value=''), FloatProgress(value=0.0, max=68.0), HTML(value='')))"
      ]
     },
     "metadata": {},
     "output_type": "display_data"
    },
    {
     "name": "stdout",
     "output_type": "stream",
     "text": [
      "\n",
      "\n",
      "Validation Loss = 0.156777\tAccuracy on Validation set = 95.462963% [1031/1080]\n",
      "\n",
      "Epoch 16/40\n",
      "-------------------------------\n"
     ]
    },
    {
     "data": {
      "application/vnd.jupyter.widget-view+json": {
       "model_id": "4c119ca553854783a73b917961a5427b",
       "version_major": 2,
       "version_minor": 0
      },
      "text/plain": [
       "HBox(children=(HTML(value=''), FloatProgress(value=0.0, max=473.0), HTML(value='')))"
      ]
     },
     "metadata": {},
     "output_type": "display_data"
    },
    {
     "name": "stdout",
     "output_type": "stream",
     "text": [
      "\n",
      "\n",
      "Training Loss = 0.039945\tAccuracy on Training set = 98.716931% [7463/7560]\n"
     ]
    },
    {
     "data": {
      "application/vnd.jupyter.widget-view+json": {
       "model_id": "f6b1f7f05bc345d69463ec8f6a2f58da",
       "version_major": 2,
       "version_minor": 0
      },
      "text/plain": [
       "HBox(children=(HTML(value=''), FloatProgress(value=0.0, max=68.0), HTML(value='')))"
      ]
     },
     "metadata": {},
     "output_type": "display_data"
    },
    {
     "name": "stdout",
     "output_type": "stream",
     "text": [
      "\n",
      "\n",
      "Validation Loss = 0.156702\tAccuracy on Validation set = 94.629630% [1022/1080]\n",
      "\n",
      "Epoch 17/40\n",
      "-------------------------------\n"
     ]
    },
    {
     "data": {
      "application/vnd.jupyter.widget-view+json": {
       "model_id": "1993c01d403a47c8a9936e24ddae1322",
       "version_major": 2,
       "version_minor": 0
      },
      "text/plain": [
       "HBox(children=(HTML(value=''), FloatProgress(value=0.0, max=473.0), HTML(value='')))"
      ]
     },
     "metadata": {},
     "output_type": "display_data"
    },
    {
     "name": "stdout",
     "output_type": "stream",
     "text": [
      "\n",
      "\n",
      "Training Loss = 0.035026\tAccuracy on Training set = 98.769841% [7467/7560]\n"
     ]
    },
    {
     "data": {
      "application/vnd.jupyter.widget-view+json": {
       "model_id": "7c2e9cc6bd0046d1ae3b288776ce67fa",
       "version_major": 2,
       "version_minor": 0
      },
      "text/plain": [
       "HBox(children=(HTML(value=''), FloatProgress(value=0.0, max=68.0), HTML(value='')))"
      ]
     },
     "metadata": {},
     "output_type": "display_data"
    },
    {
     "name": "stdout",
     "output_type": "stream",
     "text": [
      "\n",
      "\n",
      "Validation Loss = 0.164756\tAccuracy on Validation set = 95.000000% [1026/1080]\n",
      "\n",
      "Epoch 18/40\n",
      "-------------------------------\n"
     ]
    },
    {
     "data": {
      "application/vnd.jupyter.widget-view+json": {
       "model_id": "7f90f109cb3f4625a1a108eef7a57283",
       "version_major": 2,
       "version_minor": 0
      },
      "text/plain": [
       "HBox(children=(HTML(value=''), FloatProgress(value=0.0, max=473.0), HTML(value='')))"
      ]
     },
     "metadata": {},
     "output_type": "display_data"
    },
    {
     "name": "stdout",
     "output_type": "stream",
     "text": [
      "\n",
      "\n",
      "Training Loss = 0.070961\tAccuracy on Training set = 97.711640% [7387/7560]\n"
     ]
    },
    {
     "data": {
      "application/vnd.jupyter.widget-view+json": {
       "model_id": "d54e5c5672fe41cdbf38c87a094225fe",
       "version_major": 2,
       "version_minor": 0
      },
      "text/plain": [
       "HBox(children=(HTML(value=''), FloatProgress(value=0.0, max=68.0), HTML(value='')))"
      ]
     },
     "metadata": {},
     "output_type": "display_data"
    },
    {
     "name": "stdout",
     "output_type": "stream",
     "text": [
      "\n",
      "\n",
      "Validation Loss = 0.172271\tAccuracy on Validation set = 94.629630% [1022/1080]\n",
      "\n",
      "Epoch 19/40\n",
      "-------------------------------\n"
     ]
    },
    {
     "data": {
      "application/vnd.jupyter.widget-view+json": {
       "model_id": "73b7b5f4dfd141729bde3741e78b2a68",
       "version_major": 2,
       "version_minor": 0
      },
      "text/plain": [
       "HBox(children=(HTML(value=''), FloatProgress(value=0.0, max=473.0), HTML(value='')))"
      ]
     },
     "metadata": {},
     "output_type": "display_data"
    },
    {
     "name": "stdout",
     "output_type": "stream",
     "text": [
      "\n",
      "\n",
      "Training Loss = 0.031711\tAccuracy on Training set = 98.955026% [7481/7560]\n"
     ]
    },
    {
     "data": {
      "application/vnd.jupyter.widget-view+json": {
       "model_id": "aece6b24e2074a03bec3181aa9d8b1c0",
       "version_major": 2,
       "version_minor": 0
      },
      "text/plain": [
       "HBox(children=(HTML(value=''), FloatProgress(value=0.0, max=68.0), HTML(value='')))"
      ]
     },
     "metadata": {},
     "output_type": "display_data"
    },
    {
     "name": "stdout",
     "output_type": "stream",
     "text": [
      "\n",
      "\n",
      "Validation Loss = 0.111482\tAccuracy on Validation set = 96.111111% [1038/1080]\n",
      "\n",
      "Epoch 20/40\n",
      "-------------------------------\n"
     ]
    },
    {
     "data": {
      "application/vnd.jupyter.widget-view+json": {
       "model_id": "2c6111a5c45c454db40718fec98358dc",
       "version_major": 2,
       "version_minor": 0
      },
      "text/plain": [
       "HBox(children=(HTML(value=''), FloatProgress(value=0.0, max=473.0), HTML(value='')))"
      ]
     },
     "metadata": {},
     "output_type": "display_data"
    },
    {
     "name": "stdout",
     "output_type": "stream",
     "text": [
      "\n",
      "\n",
      "Training Loss = 0.022153\tAccuracy on Training set = 99.179894% [7498/7560]\n"
     ]
    },
    {
     "data": {
      "application/vnd.jupyter.widget-view+json": {
       "model_id": "97ab8cc8764c4b36915d433496ab8306",
       "version_major": 2,
       "version_minor": 0
      },
      "text/plain": [
       "HBox(children=(HTML(value=''), FloatProgress(value=0.0, max=68.0), HTML(value='')))"
      ]
     },
     "metadata": {},
     "output_type": "display_data"
    },
    {
     "name": "stdout",
     "output_type": "stream",
     "text": [
      "\n",
      "\n",
      "Validation Loss = 0.078139\tAccuracy on Validation set = 97.222222% [1050/1080]\n",
      "\n",
      "Epoch 21/40\n",
      "-------------------------------\n"
     ]
    },
    {
     "data": {
      "application/vnd.jupyter.widget-view+json": {
       "model_id": "ecd1b66218fe4cec96063dcac5dbb0e2",
       "version_major": 2,
       "version_minor": 0
      },
      "text/plain": [
       "HBox(children=(HTML(value=''), FloatProgress(value=0.0, max=473.0), HTML(value='')))"
      ]
     },
     "metadata": {},
     "output_type": "display_data"
    },
    {
     "name": "stdout",
     "output_type": "stream",
     "text": [
      "\n",
      "\n",
      "Training Loss = 0.026508\tAccuracy on Training set = 99.153439% [7496/7560]\n"
     ]
    },
    {
     "data": {
      "application/vnd.jupyter.widget-view+json": {
       "model_id": "730990cad7b24787b61159266ec328a7",
       "version_major": 2,
       "version_minor": 0
      },
      "text/plain": [
       "HBox(children=(HTML(value=''), FloatProgress(value=0.0, max=68.0), HTML(value='')))"
      ]
     },
     "metadata": {},
     "output_type": "display_data"
    },
    {
     "name": "stdout",
     "output_type": "stream",
     "text": [
      "\n",
      "\n",
      "Validation Loss = 0.160207\tAccuracy on Validation set = 95.370370% [1030/1080]\n",
      "\n",
      "Epoch 22/40\n",
      "-------------------------------\n"
     ]
    },
    {
     "data": {
      "application/vnd.jupyter.widget-view+json": {
       "model_id": "ef667c6f06f84ca192dca85fbdc0f9a4",
       "version_major": 2,
       "version_minor": 0
      },
      "text/plain": [
       "HBox(children=(HTML(value=''), FloatProgress(value=0.0, max=473.0), HTML(value='')))"
      ]
     },
     "metadata": {},
     "output_type": "display_data"
    },
    {
     "name": "stdout",
     "output_type": "stream",
     "text": [
      "\n",
      "\n",
      "Training Loss = 0.038592\tAccuracy on Training set = 98.756614% [7466/7560]\n"
     ]
    },
    {
     "data": {
      "application/vnd.jupyter.widget-view+json": {
       "model_id": "bfc40765122e46f7bbd564be4b701193",
       "version_major": 2,
       "version_minor": 0
      },
      "text/plain": [
       "HBox(children=(HTML(value=''), FloatProgress(value=0.0, max=68.0), HTML(value='')))"
      ]
     },
     "metadata": {},
     "output_type": "display_data"
    },
    {
     "name": "stdout",
     "output_type": "stream",
     "text": [
      "\n",
      "\n",
      "Validation Loss = 0.214996\tAccuracy on Validation set = 94.444444% [1020/1080]\n",
      "\n",
      "Epoch 23/40\n",
      "-------------------------------\n"
     ]
    },
    {
     "data": {
      "application/vnd.jupyter.widget-view+json": {
       "model_id": "d3033471fbf9487085162ccb27eb5b62",
       "version_major": 2,
       "version_minor": 0
      },
      "text/plain": [
       "HBox(children=(HTML(value=''), FloatProgress(value=0.0, max=473.0), HTML(value='')))"
      ]
     },
     "metadata": {},
     "output_type": "display_data"
    },
    {
     "name": "stdout",
     "output_type": "stream",
     "text": [
      "\n",
      "\n",
      "Training Loss = 0.034727\tAccuracy on Training set = 98.915344% [7478/7560]\n"
     ]
    },
    {
     "data": {
      "application/vnd.jupyter.widget-view+json": {
       "model_id": "c88de34f9d9b4b03923ade5173d8b6c3",
       "version_major": 2,
       "version_minor": 0
      },
      "text/plain": [
       "HBox(children=(HTML(value=''), FloatProgress(value=0.0, max=68.0), HTML(value='')))"
      ]
     },
     "metadata": {},
     "output_type": "display_data"
    },
    {
     "name": "stdout",
     "output_type": "stream",
     "text": [
      "\n",
      "\n",
      "Validation Loss = 0.134189\tAccuracy on Validation set = 96.296296% [1040/1080]\n",
      "\n",
      "Epoch 24/40\n",
      "-------------------------------\n"
     ]
    },
    {
     "data": {
      "application/vnd.jupyter.widget-view+json": {
       "model_id": "287437531b1f4c3d928fd8596ff308c5",
       "version_major": 2,
       "version_minor": 0
      },
      "text/plain": [
       "HBox(children=(HTML(value=''), FloatProgress(value=0.0, max=473.0), HTML(value='')))"
      ]
     },
     "metadata": {},
     "output_type": "display_data"
    },
    {
     "name": "stdout",
     "output_type": "stream",
     "text": [
      "\n",
      "\n",
      "Training Loss = 0.020842\tAccuracy on Training set = 99.272487% [7505/7560]\n"
     ]
    },
    {
     "data": {
      "application/vnd.jupyter.widget-view+json": {
       "model_id": "e7858f2dcaa6432a873ef1cf1e164fe3",
       "version_major": 2,
       "version_minor": 0
      },
      "text/plain": [
       "HBox(children=(HTML(value=''), FloatProgress(value=0.0, max=68.0), HTML(value='')))"
      ]
     },
     "metadata": {},
     "output_type": "display_data"
    },
    {
     "name": "stdout",
     "output_type": "stream",
     "text": [
      "\n",
      "\n",
      "Validation Loss = 0.105109\tAccuracy on Validation set = 96.851852% [1046/1080]\n",
      "\n",
      "Epoch 25/40\n",
      "-------------------------------\n"
     ]
    },
    {
     "data": {
      "application/vnd.jupyter.widget-view+json": {
       "model_id": "94614b939a3646f4a0f71df44311b7e9",
       "version_major": 2,
       "version_minor": 0
      },
      "text/plain": [
       "HBox(children=(HTML(value=''), FloatProgress(value=0.0, max=473.0), HTML(value='')))"
      ]
     },
     "metadata": {},
     "output_type": "display_data"
    },
    {
     "name": "stdout",
     "output_type": "stream",
     "text": [
      "\n",
      "\n",
      "Training Loss = 0.027520\tAccuracy on Training set = 98.994709% [7484/7560]\n"
     ]
    },
    {
     "data": {
      "application/vnd.jupyter.widget-view+json": {
       "model_id": "e5086b4f62634345942a3df54042163f",
       "version_major": 2,
       "version_minor": 0
      },
      "text/plain": [
       "HBox(children=(HTML(value=''), FloatProgress(value=0.0, max=68.0), HTML(value='')))"
      ]
     },
     "metadata": {},
     "output_type": "display_data"
    },
    {
     "name": "stdout",
     "output_type": "stream",
     "text": [
      "\n",
      "\n",
      "Validation Loss = 0.153301\tAccuracy on Validation set = 95.555556% [1032/1080]\n",
      "\n",
      "Epoch 26/40\n",
      "-------------------------------\n"
     ]
    },
    {
     "data": {
      "application/vnd.jupyter.widget-view+json": {
       "model_id": "f417c195125249ee86de5eded1e92c8b",
       "version_major": 2,
       "version_minor": 0
      },
      "text/plain": [
       "HBox(children=(HTML(value=''), FloatProgress(value=0.0, max=473.0), HTML(value='')))"
      ]
     },
     "metadata": {},
     "output_type": "display_data"
    },
    {
     "name": "stdout",
     "output_type": "stream",
     "text": [
      "\n",
      "\n",
      "Training Loss = 0.034969\tAccuracy on Training set = 98.915344% [7478/7560]\n"
     ]
    },
    {
     "data": {
      "application/vnd.jupyter.widget-view+json": {
       "model_id": "351b19a911814f9d82988db27f39ddc1",
       "version_major": 2,
       "version_minor": 0
      },
      "text/plain": [
       "HBox(children=(HTML(value=''), FloatProgress(value=0.0, max=68.0), HTML(value='')))"
      ]
     },
     "metadata": {},
     "output_type": "display_data"
    },
    {
     "name": "stdout",
     "output_type": "stream",
     "text": [
      "\n",
      "\n",
      "Validation Loss = 0.191497\tAccuracy on Validation set = 95.092593% [1027/1080]\n",
      "\n",
      "Epoch 27/40\n",
      "-------------------------------\n"
     ]
    },
    {
     "data": {
      "application/vnd.jupyter.widget-view+json": {
       "model_id": "02a072af4dc8455badf35bcae4d8af37",
       "version_major": 2,
       "version_minor": 0
      },
      "text/plain": [
       "HBox(children=(HTML(value=''), FloatProgress(value=0.0, max=473.0), HTML(value='')))"
      ]
     },
     "metadata": {},
     "output_type": "display_data"
    },
    {
     "name": "stdout",
     "output_type": "stream",
     "text": [
      "\n",
      "\n",
      "Training Loss = 0.028481\tAccuracy on Training set = 99.060847% [7489/7560]\n"
     ]
    },
    {
     "data": {
      "application/vnd.jupyter.widget-view+json": {
       "model_id": "6cb439b13ee14c2e9fb89f97e29a9f21",
       "version_major": 2,
       "version_minor": 0
      },
      "text/plain": [
       "HBox(children=(HTML(value=''), FloatProgress(value=0.0, max=68.0), HTML(value='')))"
      ]
     },
     "metadata": {},
     "output_type": "display_data"
    },
    {
     "name": "stdout",
     "output_type": "stream",
     "text": [
      "\n",
      "\n",
      "Validation Loss = 0.197085\tAccuracy on Validation set = 94.722222% [1023/1080]\n",
      "\n",
      "Epoch 28/40\n",
      "-------------------------------\n"
     ]
    },
    {
     "data": {
      "application/vnd.jupyter.widget-view+json": {
       "model_id": "9236e962edcc4071a55865df51c74d66",
       "version_major": 2,
       "version_minor": 0
      },
      "text/plain": [
       "HBox(children=(HTML(value=''), FloatProgress(value=0.0, max=473.0), HTML(value='')))"
      ]
     },
     "metadata": {},
     "output_type": "display_data"
    },
    {
     "name": "stdout",
     "output_type": "stream",
     "text": [
      "\n",
      "\n",
      "Training Loss = 0.034817\tAccuracy on Training set = 98.915344% [7478/7560]\n"
     ]
    },
    {
     "data": {
      "application/vnd.jupyter.widget-view+json": {
       "model_id": "1b78f44081174fa097630e8f32d5b1c0",
       "version_major": 2,
       "version_minor": 0
      },
      "text/plain": [
       "HBox(children=(HTML(value=''), FloatProgress(value=0.0, max=68.0), HTML(value='')))"
      ]
     },
     "metadata": {},
     "output_type": "display_data"
    },
    {
     "name": "stdout",
     "output_type": "stream",
     "text": [
      "\n",
      "\n",
      "Validation Loss = 0.190018\tAccuracy on Validation set = 95.555556% [1032/1080]\n",
      "\n",
      "Epoch 29/40\n",
      "-------------------------------\n"
     ]
    },
    {
     "data": {
      "application/vnd.jupyter.widget-view+json": {
       "model_id": "24269471880f4edf9d7cdbf51b1a8779",
       "version_major": 2,
       "version_minor": 0
      },
      "text/plain": [
       "HBox(children=(HTML(value=''), FloatProgress(value=0.0, max=473.0), HTML(value='')))"
      ]
     },
     "metadata": {},
     "output_type": "display_data"
    },
    {
     "name": "stdout",
     "output_type": "stream",
     "text": [
      "\n",
      "\n",
      "Training Loss = 0.027403\tAccuracy on Training set = 99.087302% [7491/7560]\n"
     ]
    },
    {
     "data": {
      "application/vnd.jupyter.widget-view+json": {
       "model_id": "b694588316734303aa1e6158cfcf6227",
       "version_major": 2,
       "version_minor": 0
      },
      "text/plain": [
       "HBox(children=(HTML(value=''), FloatProgress(value=0.0, max=68.0), HTML(value='')))"
      ]
     },
     "metadata": {},
     "output_type": "display_data"
    },
    {
     "name": "stdout",
     "output_type": "stream",
     "text": [
      "\n",
      "\n",
      "Validation Loss = 0.198929\tAccuracy on Validation set = 94.629630% [1022/1080]\n",
      "\n",
      "Epoch 30/40\n",
      "-------------------------------\n"
     ]
    },
    {
     "data": {
      "application/vnd.jupyter.widget-view+json": {
       "model_id": "7d0fdb5d44a64a22a8acf7370915e229",
       "version_major": 2,
       "version_minor": 0
      },
      "text/plain": [
       "HBox(children=(HTML(value=''), FloatProgress(value=0.0, max=473.0), HTML(value='')))"
      ]
     },
     "metadata": {},
     "output_type": "display_data"
    },
    {
     "name": "stdout",
     "output_type": "stream",
     "text": [
      "\n",
      "\n",
      "Training Loss = 0.031376\tAccuracy on Training set = 98.981481% [7483/7560]\n"
     ]
    },
    {
     "data": {
      "application/vnd.jupyter.widget-view+json": {
       "model_id": "9306711d306544e5911d0b0dd53c7d25",
       "version_major": 2,
       "version_minor": 0
      },
      "text/plain": [
       "HBox(children=(HTML(value=''), FloatProgress(value=0.0, max=68.0), HTML(value='')))"
      ]
     },
     "metadata": {},
     "output_type": "display_data"
    },
    {
     "name": "stdout",
     "output_type": "stream",
     "text": [
      "\n",
      "\n",
      "Validation Loss = 0.099583\tAccuracy on Validation set = 96.851852% [1046/1080]\n",
      "\n",
      "Epoch 31/40\n",
      "-------------------------------\n"
     ]
    },
    {
     "data": {
      "application/vnd.jupyter.widget-view+json": {
       "model_id": "22f1a3ad492f43dea61a81348464b77e",
       "version_major": 2,
       "version_minor": 0
      },
      "text/plain": [
       "HBox(children=(HTML(value=''), FloatProgress(value=0.0, max=473.0), HTML(value='')))"
      ]
     },
     "metadata": {},
     "output_type": "display_data"
    },
    {
     "name": "stdout",
     "output_type": "stream",
     "text": [
      "\n",
      "\n",
      "Training Loss = 0.011355\tAccuracy on Training set = 99.669312% [7535/7560]\n"
     ]
    },
    {
     "data": {
      "application/vnd.jupyter.widget-view+json": {
       "model_id": "f29816f7a3dc405e80f2e468d241ad9b",
       "version_major": 2,
       "version_minor": 0
      },
      "text/plain": [
       "HBox(children=(HTML(value=''), FloatProgress(value=0.0, max=68.0), HTML(value='')))"
      ]
     },
     "metadata": {},
     "output_type": "display_data"
    },
    {
     "name": "stdout",
     "output_type": "stream",
     "text": [
      "\n",
      "\n",
      "Validation Loss = 0.080750\tAccuracy on Validation set = 97.129630% [1049/1080]\n",
      "\n",
      "Epoch 32/40\n",
      "-------------------------------\n"
     ]
    },
    {
     "data": {
      "application/vnd.jupyter.widget-view+json": {
       "model_id": "dab6ccd8ac89453abb978e908aed4dc4",
       "version_major": 2,
       "version_minor": 0
      },
      "text/plain": [
       "HBox(children=(HTML(value=''), FloatProgress(value=0.0, max=473.0), HTML(value='')))"
      ]
     },
     "metadata": {},
     "output_type": "display_data"
    },
    {
     "name": "stdout",
     "output_type": "stream",
     "text": [
      "\n",
      "\n",
      "Training Loss = 0.018887\tAccuracy on Training set = 99.298942% [7507/7560]\n"
     ]
    },
    {
     "data": {
      "application/vnd.jupyter.widget-view+json": {
       "model_id": "c96686fdec0f43e891c01011483d27ce",
       "version_major": 2,
       "version_minor": 0
      },
      "text/plain": [
       "HBox(children=(HTML(value=''), FloatProgress(value=0.0, max=68.0), HTML(value='')))"
      ]
     },
     "metadata": {},
     "output_type": "display_data"
    },
    {
     "name": "stdout",
     "output_type": "stream",
     "text": [
      "\n",
      "\n",
      "Validation Loss = 0.181828\tAccuracy on Validation set = 95.370370% [1030/1080]\n",
      "\n",
      "Epoch 33/40\n",
      "-------------------------------\n"
     ]
    },
    {
     "data": {
      "application/vnd.jupyter.widget-view+json": {
       "model_id": "ad6f77918b114533becc5abcc6d999d4",
       "version_major": 2,
       "version_minor": 0
      },
      "text/plain": [
       "HBox(children=(HTML(value=''), FloatProgress(value=0.0, max=473.0), HTML(value='')))"
      ]
     },
     "metadata": {},
     "output_type": "display_data"
    },
    {
     "name": "stdout",
     "output_type": "stream",
     "text": [
      "\n",
      "\n",
      "Training Loss = 0.024789\tAccuracy on Training set = 99.087302% [7491/7560]\n"
     ]
    },
    {
     "data": {
      "application/vnd.jupyter.widget-view+json": {
       "model_id": "0db35a95617348789e4db7cdf6b97cc0",
       "version_major": 2,
       "version_minor": 0
      },
      "text/plain": [
       "HBox(children=(HTML(value=''), FloatProgress(value=0.0, max=68.0), HTML(value='')))"
      ]
     },
     "metadata": {},
     "output_type": "display_data"
    },
    {
     "name": "stdout",
     "output_type": "stream",
     "text": [
      "\n",
      "\n",
      "Validation Loss = 0.101304\tAccuracy on Validation set = 96.851852% [1046/1080]\n",
      "\n",
      "Epoch 34/40\n",
      "-------------------------------\n"
     ]
    },
    {
     "data": {
      "application/vnd.jupyter.widget-view+json": {
       "model_id": "2818df3c81a54d4fa341e3787a4e43bf",
       "version_major": 2,
       "version_minor": 0
      },
      "text/plain": [
       "HBox(children=(HTML(value=''), FloatProgress(value=0.0, max=473.0), HTML(value='')))"
      ]
     },
     "metadata": {},
     "output_type": "display_data"
    },
    {
     "name": "stdout",
     "output_type": "stream",
     "text": [
      "\n",
      "\n",
      "Training Loss = 0.020467\tAccuracy on Training set = 99.219577% [7501/7560]\n"
     ]
    },
    {
     "data": {
      "application/vnd.jupyter.widget-view+json": {
       "model_id": "0abc12e9d933468f87087c102e99061d",
       "version_major": 2,
       "version_minor": 0
      },
      "text/plain": [
       "HBox(children=(HTML(value=''), FloatProgress(value=0.0, max=68.0), HTML(value='')))"
      ]
     },
     "metadata": {},
     "output_type": "display_data"
    },
    {
     "name": "stdout",
     "output_type": "stream",
     "text": [
      "\n",
      "\n",
      "Validation Loss = 0.207982\tAccuracy on Validation set = 94.537037% [1021/1080]\n",
      "\n",
      "Epoch 35/40\n",
      "-------------------------------\n"
     ]
    },
    {
     "data": {
      "application/vnd.jupyter.widget-view+json": {
       "model_id": "41222c3843d146d1a117161a937bccdb",
       "version_major": 2,
       "version_minor": 0
      },
      "text/plain": [
       "HBox(children=(HTML(value=''), FloatProgress(value=0.0, max=473.0), HTML(value='')))"
      ]
     },
     "metadata": {},
     "output_type": "display_data"
    },
    {
     "name": "stdout",
     "output_type": "stream",
     "text": [
      "\n",
      "\n",
      "Training Loss = 0.024908\tAccuracy on Training set = 99.206349% [7500/7560]\n"
     ]
    },
    {
     "data": {
      "application/vnd.jupyter.widget-view+json": {
       "model_id": "a2c6a3e295034636bd9d897494bcacfa",
       "version_major": 2,
       "version_minor": 0
      },
      "text/plain": [
       "HBox(children=(HTML(value=''), FloatProgress(value=0.0, max=68.0), HTML(value='')))"
      ]
     },
     "metadata": {},
     "output_type": "display_data"
    },
    {
     "name": "stdout",
     "output_type": "stream",
     "text": [
      "\n",
      "\n",
      "Validation Loss = 0.097691\tAccuracy on Validation set = 97.222222% [1050/1080]\n",
      "\n",
      "Epoch 36/40\n",
      "-------------------------------\n"
     ]
    },
    {
     "data": {
      "application/vnd.jupyter.widget-view+json": {
       "model_id": "f036de6eecbb471386309152cc583d9b",
       "version_major": 2,
       "version_minor": 0
      },
      "text/plain": [
       "HBox(children=(HTML(value=''), FloatProgress(value=0.0, max=473.0), HTML(value='')))"
      ]
     },
     "metadata": {},
     "output_type": "display_data"
    },
    {
     "name": "stdout",
     "output_type": "stream",
     "text": [
      "\n",
      "\n",
      "Training Loss = 0.023450\tAccuracy on Training set = 99.113757% [7493/7560]\n"
     ]
    },
    {
     "data": {
      "application/vnd.jupyter.widget-view+json": {
       "model_id": "4903b72430f54a79a7585ee3f37d0e4c",
       "version_major": 2,
       "version_minor": 0
      },
      "text/plain": [
       "HBox(children=(HTML(value=''), FloatProgress(value=0.0, max=68.0), HTML(value='')))"
      ]
     },
     "metadata": {},
     "output_type": "display_data"
    },
    {
     "name": "stdout",
     "output_type": "stream",
     "text": [
      "\n",
      "\n",
      "Validation Loss = 0.170553\tAccuracy on Validation set = 95.555556% [1032/1080]\n",
      "\n",
      "Epoch 37/40\n",
      "-------------------------------\n"
     ]
    },
    {
     "data": {
      "application/vnd.jupyter.widget-view+json": {
       "model_id": "7bff02a3501940c3ac603019a25110af",
       "version_major": 2,
       "version_minor": 0
      },
      "text/plain": [
       "HBox(children=(HTML(value=''), FloatProgress(value=0.0, max=473.0), HTML(value='')))"
      ]
     },
     "metadata": {},
     "output_type": "display_data"
    },
    {
     "name": "stdout",
     "output_type": "stream",
     "text": [
      "\n",
      "\n",
      "Training Loss = 0.027980\tAccuracy on Training set = 99.140212% [7495/7560]\n"
     ]
    },
    {
     "data": {
      "application/vnd.jupyter.widget-view+json": {
       "model_id": "06288a8c4625400ea72a552e952e252f",
       "version_major": 2,
       "version_minor": 0
      },
      "text/plain": [
       "HBox(children=(HTML(value=''), FloatProgress(value=0.0, max=68.0), HTML(value='')))"
      ]
     },
     "metadata": {},
     "output_type": "display_data"
    },
    {
     "name": "stdout",
     "output_type": "stream",
     "text": [
      "\n",
      "\n",
      "Validation Loss = 0.120890\tAccuracy on Validation set = 96.481481% [1042/1080]\n",
      "\n",
      "Epoch 38/40\n",
      "-------------------------------\n"
     ]
    },
    {
     "data": {
      "application/vnd.jupyter.widget-view+json": {
       "model_id": "6ba95e31510a49258e5c4ee641c0d1df",
       "version_major": 2,
       "version_minor": 0
      },
      "text/plain": [
       "HBox(children=(HTML(value=''), FloatProgress(value=0.0, max=473.0), HTML(value='')))"
      ]
     },
     "metadata": {},
     "output_type": "display_data"
    },
    {
     "name": "stdout",
     "output_type": "stream",
     "text": [
      "\n",
      "\n",
      "Training Loss = 0.010393\tAccuracy on Training set = 99.616402% [7531/7560]\n"
     ]
    },
    {
     "data": {
      "application/vnd.jupyter.widget-view+json": {
       "model_id": "fc4901cecd4942cf8d6e919519c6b98e",
       "version_major": 2,
       "version_minor": 0
      },
      "text/plain": [
       "HBox(children=(HTML(value=''), FloatProgress(value=0.0, max=68.0), HTML(value='')))"
      ]
     },
     "metadata": {},
     "output_type": "display_data"
    },
    {
     "name": "stdout",
     "output_type": "stream",
     "text": [
      "\n",
      "\n",
      "Validation Loss = 0.118799\tAccuracy on Validation set = 97.037037% [1048/1080]\n",
      "\n",
      "Epoch 39/40\n",
      "-------------------------------\n"
     ]
    },
    {
     "data": {
      "application/vnd.jupyter.widget-view+json": {
       "model_id": "079eead1e38c43c0bbd706e516390b8d",
       "version_major": 2,
       "version_minor": 0
      },
      "text/plain": [
       "HBox(children=(HTML(value=''), FloatProgress(value=0.0, max=473.0), HTML(value='')))"
      ]
     },
     "metadata": {},
     "output_type": "display_data"
    },
    {
     "name": "stdout",
     "output_type": "stream",
     "text": [
      "\n",
      "\n",
      "Training Loss = 0.038057\tAccuracy on Training set = 98.637566% [7457/7560]\n"
     ]
    },
    {
     "data": {
      "application/vnd.jupyter.widget-view+json": {
       "model_id": "85f08b99537147408069cb7e12456b8b",
       "version_major": 2,
       "version_minor": 0
      },
      "text/plain": [
       "HBox(children=(HTML(value=''), FloatProgress(value=0.0, max=68.0), HTML(value='')))"
      ]
     },
     "metadata": {},
     "output_type": "display_data"
    },
    {
     "name": "stdout",
     "output_type": "stream",
     "text": [
      "\n",
      "\n",
      "Validation Loss = 0.116923\tAccuracy on Validation set = 96.574074% [1043/1080]\n",
      "\n",
      "Epoch 40/40\n",
      "-------------------------------\n"
     ]
    },
    {
     "data": {
      "application/vnd.jupyter.widget-view+json": {
       "model_id": "7b21bcbcd6614a28b775e586e6c5987b",
       "version_major": 2,
       "version_minor": 0
      },
      "text/plain": [
       "HBox(children=(HTML(value=''), FloatProgress(value=0.0, max=473.0), HTML(value='')))"
      ]
     },
     "metadata": {},
     "output_type": "display_data"
    },
    {
     "name": "stdout",
     "output_type": "stream",
     "text": [
      "\n",
      "\n",
      "Training Loss = 0.024360\tAccuracy on Training set = 99.166667% [7497/7560]\n"
     ]
    },
    {
     "data": {
      "application/vnd.jupyter.widget-view+json": {
       "model_id": "4614269950d749faad8abc088e7a8eda",
       "version_major": 2,
       "version_minor": 0
      },
      "text/plain": [
       "HBox(children=(HTML(value=''), FloatProgress(value=0.0, max=68.0), HTML(value='')))"
      ]
     },
     "metadata": {},
     "output_type": "display_data"
    },
    {
     "name": "stdout",
     "output_type": "stream",
     "text": [
      "\n",
      "\n",
      "Validation Loss = 0.104411\tAccuracy on Validation set = 97.129630% [1049/1080]\n",
      "\n",
      "Training has completed!\n"
     ]
    }
   ],
   "source": [
    "loss_fn   = nn.CrossEntropyLoss()\n",
    "optimizer = torch.optim.Adam(model.parameters(),lr=3e-4) \n",
    "nb_epochs = 40\n",
    "#Call the optimize function.\n",
    "train_losses, valid_losses,v,acc = optimize(train_dl,val_ds,model,loss_fn,optimizer,nb_epochs)"
   ]
  },
  {
   "cell_type": "code",
   "execution_count": 17,
   "metadata": {},
   "outputs": [
    {
     "data": {
      "image/png": "[encoded data removed]",
      "text/plain": [
       "<Figure size 432x288 with 1 Axes>"
      ]
     },
     "metadata": {
      "needs_background": "light"
     },
     "output_type": "display_data"
    }
   ],
   "source": [
    "\n",
    "epochs = range(nb_epochs)\n",
    "plt.plot(epochs, train_losses, 'g', label='Training loss')\n",
    "plt.plot(epochs, valid_losses, 'b', label='validation loss')\n",
    "plt.title('Training and Validation loss')\n",
    "plt.xlabel('Epochs')\n",
    "plt.ylabel('Loss')\n",
    "plt.legend()\n",
    "plt.show()"
   ]
  },
  {
   "cell_type": "code",
   "execution_count": 18,
   "metadata": {},
   "outputs": [
    {
     "data": {
      "image/png": "[encoded data removed]",
      "text/plain": [
       "<Figure size 432x288 with 1 Axes>"
      ]
     },
     "metadata": {
      "needs_background": "light"
     },
     "output_type": "display_data"
    }
   ],
   "source": [
    "epochs = range(nb_epochs)\n",
    "plt.plot(epochs, acc, 'g', label='Training accuracy')\n",
    "plt.plot(epochs, v, 'b', label='validation accuracy')\n",
    "plt.title('Training and Validation accuracy')\n",
    "plt.xlabel('Epochs')\n",
    "plt.ylabel('accuracy')\n",
    "plt.legend()\n",
    "plt.show()"
   ]
  },
  {
   "cell_type": "code",
   "execution_count": 19,
   "metadata": {},
   "outputs": [],
   "source": [
    "def Final_test(dataloader,model,loss_fn):\n",
    "\n",
    "#     model in evaluation mode\n",
    "    model.eval() \n",
    "    \n",
    "    total = 0\n",
    "    correct = 0\n",
    "    running_loss = 0\n",
    "    \n",
    "    with torch.no_grad(): # gradients calculation not required\n",
    "        \n",
    "        for x,y in dataloader:\n",
    "            \n",
    "            output        = model(x.to(device)) #model's output.\n",
    "            loss          = loss_fn(output,y.to(device)).item() #loss calculation.\n",
    "            running_loss += loss\n",
    "            \n",
    "            total        += y.size(0)\n",
    "            predictions   = output.argmax(dim=1).cpu().detach()\n",
    "            correct      += (predictions == y.cpu().detach()).sum().item()\n",
    "            \n",
    "    avg_loss = running_loss/len(dataloader) #Average loss per batch.      \n",
    "    val_acc = 100*(correct/total)\n",
    "    print(f'\\t test Loss = {avg_loss:.6f}',end='\\t')\n",
    "    print(f'Accuracy on test set = {100*(correct/total):.6f}% [{correct}/{total}]') #Prints the Accuracy.\n",
    "    \n",
    "    print('avg_loss',avg_loss,'val_acc',val_acc)"
   ]
  },
  {
   "cell_type": "markdown",
   "metadata": {},
   "source": [
    "Results on the training set"
   ]
  },
  {
   "cell_type": "code",
   "execution_count": 20,
   "metadata": {},
   "outputs": [
    {
     "name": "stdout",
     "output_type": "stream",
     "text": [
      "\t test Loss = 0.093076\tAccuracy on test set = 97.129630% [2098/2160]\n",
      "avg_loss 0.0930759628438089 val_acc 97.12962962962963\n"
     ]
    }
   ],
   "source": [
    "Final_test(test_dl,model,loss_fn)"
   ]
  },
  {
   "cell_type": "code",
   "execution_count": 21,
   "metadata": {},
   "outputs": [],
   "source": [
    "torch.save(model.state_dict(),'model97.pth')"
   ]
  },
  {
   "cell_type": "code",
   "execution_count": 25,
   "metadata": {},
   "outputs": [
    {
     "name": "stdout",
     "output_type": "stream",
     "text": [
      "Training loss [0.8206656123910632, 0.5359767151730401, 0.3801248095574833, 0.2510096306247371, 0.16214840447618847, 0.13046579987165474, 0.09516770305067655, 0.09083731100739291, 0.08069979549618438, 0.06507589918439322, 0.061618831653946216, 0.05508113978929552, 0.06531800295204102, 0.08268967179825441, 0.05362055943170119, 0.03988151844019913, 0.022268424744834193, 0.03524329835587802, 0.02904763664624798, 0.06360849395859987, 0.0574200737629629, 0.03318334873807284, 0.022579623032652308, 0.026163027050400463, 0.08120426111459632, 0.05491288451455711, 0.024112165988411843, 0.020018445626867887, 0.016502380052683986, 0.022046545794070144, 0.03529737195720026, 0.03105917412127989, 0.04759163006584415, 0.05097939846676863, 0.04051571596951579, 0.0345628491832204, 0.024183246800748747, 0.015856705060650712, 0.04257004580000025, 0.025679598387432633]\n"
     ]
    }
   ],
   "source": [
    "print('Training loss', train_losses)"
   ]
  },
  {
   "cell_type": "code",
   "execution_count": 26,
   "metadata": {},
   "outputs": [
    {
     "name": "stdout",
     "output_type": "stream",
     "text": [
      "Validation loss [0.5355992799003919, 0.5146637062231699, 0.5775555188457171, 0.28671096165974935, 0.4321647067864736, 0.2735836804844439, 0.2411770788797488, 0.26524061520273484, 0.29903727599109214, 0.3033341327061256, 0.3504817737111201, 0.3525968935961525, 0.37551649327700337, 0.2691271284750352, 0.2850798886579772, 0.2620852242146308, 0.3215768687116603, 0.35241423491388557, 0.31343956390434563, 0.3919985508235792, 0.2434051767612497, 0.26324635843435923, 0.36063821030159793, 0.2669898871468225, 0.49074126152166475, 0.3545550266086745, 0.29653440877639997, 0.3249491925816983, 0.4220108341619683, 0.3292855474166572, 0.3565324805987378, 0.3917264812849074, 0.7657338507395859, 0.3473130943253636, 0.30922079626470805, 0.22709954142725716, 0.9070007290691138, 0.19851580566416185, 0.3025913056354815, 0.2871346710405002]\n"
     ]
    }
   ],
   "source": [
    "print('Validation loss', valid_losses)"
   ]
  },
  {
   "cell_type": "code",
   "execution_count": 27,
   "metadata": {},
   "outputs": [
    {
     "name": "stdout",
     "output_type": "stream",
     "text": [
      "training accuracy [67.41071428571429, 79.76190476190477, 86.01190476190477, 91.04166666666667, 94.13690476190476, 95.32738095238096, 96.57738095238095, 96.9047619047619, 97.20238095238095, 97.58928571428571, 97.85714285714285, 98.21428571428571, 97.67857142857143, 97.02380952380952, 98.21428571428571, 98.66071428571429, 99.19642857142857, 98.75, 99.16666666666667, 97.94642857142857, 98.125, 98.83928571428572, 99.22619047619048, 99.10714285714286, 96.9047619047619, 98.1547619047619, 99.07738095238095, 99.43452380952381, 99.52380952380952, 99.13690476190476, 98.77976190476191, 98.89880952380953, 98.51190476190477, 98.39285714285714, 98.66071428571429, 98.83928571428572, 99.10714285714286, 99.52380952380952, 98.77976190476191, 99.13690476190476]\n",
      "validation accuracy [77.29166666666667, 78.54166666666667, 78.75, 88.54166666666666, 83.95833333333333, 92.08333333333333, 93.33333333333333, 90.625, 90.41666666666667, 91.25, 90.0, 92.29166666666667, 88.54166666666666, 90.83333333333333, 90.83333333333333, 92.29166666666667, 90.0, 91.04166666666667, 92.70833333333334, 88.33333333333333, 93.33333333333333, 92.08333333333333, 90.41666666666667, 91.875, 88.75, 90.41666666666667, 90.20833333333333, 91.25, 90.0, 91.875, 90.20833333333333, 91.04166666666667, 86.45833333333334, 89.58333333333334, 91.875, 94.16666666666667, 93.54166666666667, 94.375, 92.91666666666667, 92.08333333333333]\n"
     ]
    }
   ],
   "source": [
    "print('training accuracy',acc)\n",
    "print('validation accuracy',v)"
   ]
  },
  {
   "cell_type": "code",
   "execution_count": 28,
   "metadata": {},
   "outputs": [
    {
     "data": {
      "text/plain": [
       "(40, 40, 40, 40)"
      ]
     },
     "execution_count": 28,
     "metadata": {},
     "output_type": "execute_result"
    }
   ],
   "source": [
    "len(acc),len(v),len(train_losses),len(valid_losses)"
   ]
  },
  {
   "cell_type": "code",
   "execution_count": 30,
   "metadata": {},
   "outputs": [],
   "source": [
    "torch.save(model.state_dict,'model.pth')"
   ]
  },
  {
   "cell_type": "code",
   "execution_count": null,
   "metadata": {},
   "outputs": [],
   "source": []
  }
 ],
 "metadata": {
  "interpreter": {
   "hash": "6f41cde163267ea74fb8a959ea1c52e21a3d11db2c6ff7108ee0ea8d86fcf190"
  },
  "kernelspec": {
   "display_name": "Python 3.9.5 64-bit",
   "language": "python",
   "name": "python3"
  },
  "language_info": {
   "codemirror_mode": {
    "name": "ipython",
    "version": 3
   },
   "file_extension": ".py",
   "mimetype": "text/x-python",
   "name": "python",
   "nbconvert_exporter": "python",
   "pygments_lexer": "ipython3",
   "version": "3.8.5"
  },
  "orig_nbformat": 4
 },
 "nbformat": 4,
 "nbformat_minor": 2
}
